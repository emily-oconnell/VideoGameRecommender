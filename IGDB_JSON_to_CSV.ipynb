{
  "nbformat": 4,
  "nbformat_minor": 0,
  "metadata": {
    "colab": {
      "name": "IGDB JSON to CSV.ipynb",
      "provenance": [],
      "collapsed_sections": [],
      "authorship_tag": "ABX9TyMzcVWUHXE/Irxm/SPVIXqZ",
      "include_colab_link": true
    },
    "kernelspec": {
      "name": "python3",
      "display_name": "Python 3"
    },
    "language_info": {
      "name": "python"
    }
  },
  "cells": [
    {
      "cell_type": "markdown",
      "metadata": {
        "id": "view-in-github",
        "colab_type": "text"
      },
      "source": [
        "<a href=\"https://colab.research.google.com/github/renarepenning/VideoGameRecommender/blob/main/IGDB_JSON_to_CSV.ipynb\" target=\"_parent\"><img src=\"https://colab.research.google.com/assets/colab-badge.svg\" alt=\"Open In Colab\"/></a>"
      ]
    },
    {
      "cell_type": "code",
      "metadata": {
        "colab": {
          "base_uri": "https://localhost:8080/"
        },
        "id": "UtcjskDOkabV",
        "outputId": "c375b7f0-1502-42e4-e662-c084ed9ff574"
      },
      "source": [
        "# importing packages\n",
        "import pandas as pd\n",
        "import os\n",
        "import numpy as np\n",
        "from google.colab import drive\n",
        "drive.mount('/content/drive')"
      ],
      "execution_count": 92,
      "outputs": [
        {
          "output_type": "stream",
          "name": "stdout",
          "text": [
            "Drive already mounted at /content/drive; to attempt to forcibly remount, call drive.mount(\"/content/drive\", force_remount=True).\n"
          ]
        }
      ]
    },
    {
      "cell_type": "code",
      "metadata": {
        "id": "1itbCZk7r3un"
      },
      "source": [
        "# read all json files\n",
        "df1 = pd.read_json('/content/drive/MyDrive/CapstoneVideoGame/IGDB Data/11th_500_responses.json')\n",
        "df2 = pd.read_json('/content/drive/MyDrive/CapstoneVideoGame/IGDB Data/eighth_500_games.json')\n",
        "df3 = pd.read_json('/content/drive/MyDrive/CapstoneVideoGame/IGDB Data/even_more.json')\n",
        "df4 = pd.read_json('/content/drive/MyDrive/CapstoneVideoGame/IGDB Data/fifth_500_games.json')\n",
        "df5 = pd.read_json('/content/drive/MyDrive/CapstoneVideoGame/IGDB Data/first_500_games.json')\n",
        "df6 = pd.read_json('/content/drive/MyDrive/CapstoneVideoGame/IGDB Data/fourth_500_games.json')\n",
        "df7 = pd.read_json('/content/drive/MyDrive/CapstoneVideoGame/IGDB Data/more_games.json')\n",
        "df8 = pd.read_json('/content/drive/MyDrive/CapstoneVideoGame/IGDB Data/ninth_500_games.json')\n",
        "df9 = pd.read_json('/content/drive/MyDrive/CapstoneVideoGame/IGDB Data/response (16).json')\n",
        "df10 = pd.read_json('/content/drive/MyDrive/CapstoneVideoGame/IGDB Data/response (17).json')\n",
        "df11 = pd.read_json('/content/drive/MyDrive/CapstoneVideoGame/IGDB Data/response (18).json')\n",
        "df12 = pd.read_json('/content/drive/MyDrive/CapstoneVideoGame/IGDB Data/response (19).json')\n",
        "df13 = pd.read_json('/content/drive/MyDrive/CapstoneVideoGame/IGDB Data/response (20).json')\n",
        "df14 = pd.read_json('/content/drive/MyDrive/CapstoneVideoGame/IGDB Data/response (21).json')\n",
        "df15 = pd.read_json('/content/drive/MyDrive/CapstoneVideoGame/IGDB Data/response (22).json')\n",
        "df16 = pd.read_json('/content/drive/MyDrive/CapstoneVideoGame/IGDB Data/response (23).json')\n",
        "df17 = pd.read_json('/content/drive/MyDrive/CapstoneVideoGame/IGDB Data/response (24).json')\n",
        "df18 = pd.read_json('/content/drive/MyDrive/CapstoneVideoGame/IGDB Data/response.json')\n",
        "df19 = pd.read_json('/content/drive/MyDrive/CapstoneVideoGame/IGDB Data/second_500_games.json')\n",
        "df20 = pd.read_json('/content/drive/MyDrive/CapstoneVideoGame/IGDB Data/seventh_500_games.json')\n",
        "df21 = pd.read_json('/content/drive/MyDrive/CapstoneVideoGame/IGDB Data/sixth_500_gamess.json')\n",
        "df22 = pd.read_json('/content/drive/MyDrive/CapstoneVideoGame/IGDB Data/tenth_500_games.json')\n",
        "df23 = pd.read_json('/content/drive/MyDrive/CapstoneVideoGame/IGDB Data/third_500_games.json')\n",
        "\n",
        "# concatinate all json files into one df\n",
        "df = pd.DataFrame()\n",
        "df = pd.concat([df1,df2,df3,df4,df5,df6,df7,df8,df9,df10,df11,df12,df13,df14,df15,df16,df17,df18,df19,df20,df21,df22,df23])\n",
        "\n",
        "# convert df to csv\n",
        "df.to_csv(\"IGDB_games.csv\",index=False)"
      ],
      "execution_count": 94,
      "outputs": []
    },
    {
      "cell_type": "code",
      "metadata": {
        "id": "Q3ZybMSfyBSL"
      },
      "source": [
        "# convert to xlsx\n",
        "GFG = pd.ExcelWriter('IGDB_games.xlsx')\n",
        "df.to_excel(GFG, index = False)\n",
        "  \n",
        "GFG.save()"
      ],
      "execution_count": 91,
      "outputs": []
    },
    {
      "cell_type": "code",
      "metadata": {
        "id": "Cj3cjkiS0rfR"
      },
      "source": [
        ""
      ],
      "execution_count": null,
      "outputs": []
    }
  ]
}