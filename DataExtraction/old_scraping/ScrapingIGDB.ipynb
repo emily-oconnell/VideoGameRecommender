{
  "nbformat": 4,
  "nbformat_minor": 0,
  "metadata": {
    "colab": {
      "name": "Scraping IGDB.ipynb",
      "provenance": [],
      "collapsed_sections": [],
      "include_colab_link": true
    },
    "kernelspec": {
      "name": "python3",
      "display_name": "Python 3"
    },
    "language_info": {
      "name": "python"
    }
  },
  "cells": [
    {
      "cell_type": "markdown",
      "metadata": {
        "id": "view-in-github",
        "colab_type": "text"
      },
      "source": [
        "<a href=\"https://colab.research.google.com/github/renarepenning/VideoGameRecommender/blob/main/ScrapingIGDB.ipynb\" target=\"_parent\"><img src=\"https://colab.research.google.com/assets/colab-badge.svg\" alt=\"Open In Colab\"/></a>"
      ]
    },
    {
      "cell_type": "markdown",
      "metadata": {
        "id": "ZWnIqofAgyHY"
      },
      "source": [
        "If we can't figure out how to use the API could we just scrape it?\n",
        "*   This example is able to scrape everything except the keywords\n",
        "*   Not sure if we can have it scrape everything under https://www.igdb.com/games/\n",
        "*   I think it works for all games tho\n",
        "\n",
        "\n",
        "\n",
        "\n",
        "\n",
        "\n"
      ]
    },
    {
      "cell_type": "code",
      "metadata": {
        "id": "TQN1nPwwioo1",
        "colab": {
          "base_uri": "https://localhost:8080/"
        },
        "outputId": "a3ce7ba3-ea34-474b-a2b6-2b41272e9c95"
      },
      "source": [
        "!pip3 install lxml\n",
        "import requests\n",
        "from bs4 import BeautifulSoup \n",
        "import re\n",
        "import pandas as pd\n",
        "from IPython.core.display import display, HTML\n",
        "import datetime as dt\n",
        "import numpy as np\n",
        "import os"
      ],
      "execution_count": null,
      "outputs": [
        {
          "output_type": "stream",
          "name": "stdout",
          "text": [
            "Requirement already satisfied: lxml in /usr/local/lib/python3.7/dist-packages (4.2.6)\n"
          ]
        }
      ]
    },
    {
      "cell_type": "code",
      "metadata": {
        "id": "_ro6HORsBgqu"
      },
      "source": [
        "# load the website and set up beautiful soup\n",
        "url = \"https://www.igdb.com/games/forza-horizon-5\"\n",
        "# needed in order for the server to think we're human so we can access the webpage for scraping\n",
        "headers = {'User-Agent': 'Mozilla/5.0 (Macintosh; Intel Mac OS X 10_10_1) AppleWebKit/537.36 (KHTML, like Gecko) Chrome/39.0.2171.95 Safari/537.36'}\n",
        "r = requests.get(url, headers=headers)\n",
        "soup = BeautifulSoup(r.content,  \"html.parser\")"
      ],
      "execution_count": 60,
      "outputs": []
    },
    {
      "cell_type": "code",
      "metadata": {
        "colab": {
          "base_uri": "https://localhost:8080/",
          "height": 36
        },
        "id": "wcnTYBiKMvJP",
        "outputId": "feaf4933-cb0b-4230-e24d-d60f3978cbc3"
      },
      "source": [
        "# get title of the game and remove Edit\n",
        "title = soup.find(class_ = 'banner-title').text\n",
        "title = title[:-4]"
      ],
      "execution_count": 68,
      "outputs": [
        {
          "output_type": "execute_result",
          "data": {
            "application/vnd.google.colaboratory.intrinsic+json": {
              "type": "string"
            },
            "text/plain": [
              "'Forza Horizon 5'"
            ]
          },
          "metadata": {},
          "execution_count": 68
        }
      ]
    },
    {
      "cell_type": "code",
      "metadata": {
        "id": "msC8eggyMrJQ"
      },
      "source": [
        "# get everything from the maininfo class (Id, release date, publisher, developer)\n",
        "main_info = soup.find(class_ = 'optimisly-game-maininfo')\n",
        "\n",
        "IGDB_Id = main_info.find('span').text\n",
        "release_dates = main_info.find_all('time') #deal with this later\n",
        "developer = main_info.find('a', class_=\"block\").text\n",
        "publisher = main_info.find_all('a', class_=\"block\")[-1].text"
      ],
      "execution_count": 61,
      "outputs": []
    },
    {
      "cell_type": "code",
      "metadata": {
        "id": "S43R4g_3LrEW"
      },
      "source": [
        "# get extrainfo1 (game modes and genres)\n",
        "next_segment = soup.find(class_ = 'optimisly-game-extrainfo1')\n",
        "\n",
        "#modes, genres\n",
        "extra_info1 = next_segment.find_all('a')\n",
        "\n",
        "# convert modes and genres to text\n",
        "i=0\n",
        "mode_genre = []\n",
        "while i < len(extra_info1):\n",
        "  mode_genre.append(extra_info1[i].text)\n",
        "  i = i+1"
      ],
      "execution_count": 73,
      "outputs": []
    },
    {
      "cell_type": "code",
      "metadata": {
        "colab": {
          "base_uri": "https://localhost:8080/"
        },
        "id": "JKssICmMSTg_",
        "outputId": "50b22ddd-57e2-47f8-b1e6-e9c5e4974e43"
      },
      "source": [
        "game_mode = []\n",
        "game_genre = []\n",
        "modes = [\"Battle Royale\", \"Co-operative\", \"Massively Multiplayer Online (MMO)\", \"Multiplayer\", \"Single player\", \"Split screen\"]\n",
        "genres = [\"Point-and-click\", \"Fighting\", \"Shooter\", \"Music\", \"Platform\", \"Puzzle\", \"Racing\", \"Real Time Strategy (RTS)\", \n",
        "          \"Role-playing (RPG)\", \"Simulator\", \"Sport\", \"Strategy\", \"Turn-based strategy (TBS)\", \"Tactical\", \"Quiz/Trivia\",\n",
        "          \"Hack and slash/Beat ‘em up\", \"Pinball\", \"Adventure\", \"Arcade\", \"Visual Novel\", \"Indie\", \"Card & Board Game\", \"MOBA\"]\n",
        "\n",
        "# determine which attributes are modes and which are genres and add them to the appropriate list\n",
        "for elm in mode_genre:\n",
        "  if elm in modes:\n",
        "    game_mode.append(elm)\n",
        "  else:\n",
        "    game_genre.append(elm)\n",
        "\n",
        "game_genre"
      ],
      "execution_count": null,
      "outputs": [
        {
          "output_type": "execute_result",
          "data": {
            "text/plain": [
              "['Racing', 'Sport']"
            ]
          },
          "metadata": {},
          "execution_count": 16
        }
      ]
    },
    {
      "cell_type": "code",
      "metadata": {
        "colab": {
          "base_uri": "https://localhost:8080/"
        },
        "id": "9SL73stSS66t",
        "outputId": "b3e8f902-93c8-428c-e987-73718d070ffd"
      },
      "source": [
        "# get the next set of extra info\n",
        "next_segment2 = soup.find(class_ = 'optimisly-game-extrainfo2')\n",
        "extra_info2 = next_segment2.find_all('a')\n",
        "\n",
        "# convert all extra info to text and remove game engine\n",
        "i=0\n",
        "info_2 = []\n",
        "while i < len(extra_info2):\n",
        "  info_2.append(extra_info2[i].text)\n",
        "  i = i+1\n",
        "info_2 = info_2[:-1]"
      ],
      "execution_count": null,
      "outputs": [
        {
          "output_type": "stream",
          "name": "stdout",
          "text": [
            "['Open world', 'Forza Horizon', 'First person', 'Third person', 'Forza', 'ForzaTech']\n",
            "['Open world', 'Forza Horizon', 'First person', 'Third person', 'Forza']\n"
          ]
        }
      ]
    },
    {
      "cell_type": "code",
      "metadata": {
        "id": "ErolXazuUbRj"
      },
      "source": [
        "game_perspective = []\n",
        "game_themes = []\n",
        "game_series = []\n",
        "perspectives = [\"Auditory\", \"Bird view / Isometric\", \"First person\", \"Side view\", \"Text\", \"Third person\", \"Virtual Reality\"]\n",
        "themes =[\"Fantasy\", \"Thriller\", \"Science Fiction\", \"Action\", \"Horror\", \"Survival\", \"Historical\",\n",
        "         \"Stealth\", \"Business\", \"Comedy\", \"Drama\", \"Non-fiction\", \"Educational\", \"Sandbox\", \"Kids\",\n",
        "         \"Open world\", \"Warfare\", \"4X (explore, expand, exploit, and exterminate)\", \"Eroitc\", \"Mystery\", \"Party\", \"Romance\"]\n",
        "\n",
        "# deterine wheter each attribute is a perspective, theme, or series\n",
        "for elm in info_2:\n",
        "  if elm in perspectives:\n",
        "    game_perspective.append(elm)\n",
        "  elif elm in themes:\n",
        "    game_themes.append(elm)\n",
        "  else:\n",
        "    game_series.append(elm)"
      ],
      "execution_count": 75,
      "outputs": []
    },
    {
      "cell_type": "code",
      "metadata": {
        "colab": {
          "base_uri": "https://localhost:8080/"
        },
        "id": "UQzxrh7j3lRy",
        "outputId": "ef7e750b-7ff1-4e6c-d1c5-adfb9850dad0"
      },
      "source": [
        "# get the user and critic rating\n",
        "get_rating = soup.find_all('text')\n",
        "get_rating\n",
        "\n",
        "i=0\n",
        "rating_info = []\n",
        "while i < len(get_rating):\n",
        "  rating_info.append(get_rating[i].text)\n",
        "  i = i+1\n",
        "member_rating = rating_info[0]\n",
        "critic_rating = rating_info[2]"
      ],
      "execution_count": 47,
      "outputs": [
        {
          "output_type": "stream",
          "name": "stdout",
          "text": [
            "90\n",
            "94\n"
          ]
        }
      ]
    },
    {
      "cell_type": "code",
      "metadata": {
        "colab": {
          "base_uri": "https://localhost:8080/",
          "height": 81
        },
        "id": "uhKn56PZLJc-",
        "outputId": "6726073c-3e13-49a8-b11f-f0867c7c9b17"
      },
      "source": [
        "# consolidate data and add to data frame\n",
        "data = {'title': title, 'developer':[developer], 'publisher': [publisher], 'game mode':[game_mode], 'genre':[game_genre], 'themes': [game_themes], 'series': [game_series], 'member rating': [member_rating], 'critic rating': [critic_rating]}\n",
        "\n",
        "igdb_df = pd.DataFrame(data)\n",
        "igdb_df"
      ],
      "execution_count": 76,
      "outputs": [
        {
          "output_type": "execute_result",
          "data": {
            "text/html": [
              "<div>\n",
              "<style scoped>\n",
              "    .dataframe tbody tr th:only-of-type {\n",
              "        vertical-align: middle;\n",
              "    }\n",
              "\n",
              "    .dataframe tbody tr th {\n",
              "        vertical-align: top;\n",
              "    }\n",
              "\n",
              "    .dataframe thead th {\n",
              "        text-align: right;\n",
              "    }\n",
              "</style>\n",
              "<table border=\"1\" class=\"dataframe\">\n",
              "  <thead>\n",
              "    <tr style=\"text-align: right;\">\n",
              "      <th></th>\n",
              "      <th>title</th>\n",
              "      <th>developer</th>\n",
              "      <th>publisher</th>\n",
              "      <th>game mode</th>\n",
              "      <th>genre</th>\n",
              "      <th>themes</th>\n",
              "      <th>series</th>\n",
              "      <th>member rating</th>\n",
              "      <th>critic rating</th>\n",
              "    </tr>\n",
              "  </thead>\n",
              "  <tbody>\n",
              "    <tr>\n",
              "      <th>0</th>\n",
              "      <td>Forza Horizon 5</td>\n",
              "      <td>Playground Games</td>\n",
              "      <td>Xbox Game Studios</td>\n",
              "      <td>[Multiplayer, Single player]</td>\n",
              "      <td>[Racing, Sport]</td>\n",
              "      <td>[Open world]</td>\n",
              "      <td>[Forza Horizon, Forza]</td>\n",
              "      <td>90</td>\n",
              "      <td>94</td>\n",
              "    </tr>\n",
              "  </tbody>\n",
              "</table>\n",
              "</div>"
            ],
            "text/plain": [
              "             title         developer  ... member rating critic rating\n",
              "0  Forza Horizon 5  Playground Games  ...            90            94\n",
              "\n",
              "[1 rows x 9 columns]"
            ]
          },
          "metadata": {},
          "execution_count": 76
        }
      ]
    }
  ]
}