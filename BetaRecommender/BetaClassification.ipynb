{
 "cells": [
  {
   "cell_type": "markdown",
   "id": "ba7956f8",
   "metadata": {},
   "source": [
    "# Outline"
   ]
  },
  {
   "cell_type": "markdown",
   "id": "0a613c28",
   "metadata": {},
   "source": [
    "* array of acceptable genres\n",
    "* Input: 10 games -->\n",
    "\n",
    "* all movies w/in these genres, w/in accepted\n",
    "* --> console as filer --> genres as filter, queried data - keywords mlo\n",
    "\n",
    "* query: {name:keywords}\n",
    "\n",
    "kelly will do this using postman\n",
    "\n",
    "* data in: name, keywords\n",
    "\n",
    "* process: calculate dist as # common keywords, to keywords in games user chose\n",
    "\n",
    "* output: closest games to target keywords"
   ]
  },
  {
   "cell_type": "markdown",
   "id": "775e7dca",
   "metadata": {},
   "source": [
    "# Code"
   ]
  },
  {
   "cell_type": "code",
   "execution_count": null,
   "id": "military-married",
   "metadata": {},
   "outputs": [],
   "source": [
    "%matplotlib inline\n",
    "import numpy as np\n",
    "import pandas as pd\n",
    "pd.options.display.max_rows = 5\n",
    "from sklearn.feature_extraction import DictVectorizer\n",
    "from sklearn.neighbors import KNeighborsRegressor\n",
    "\n",
    "games = pd.read_csv(\"IGDB_games.csv\", sep=\",\")\n",
    "games.head()"
   ]
  },
  {
   "cell_type": "markdown",
   "id": "00e44401",
   "metadata": {},
   "source": [
    "*For working on User.py, will move to file eventually*"
   ]
  },
  {
   "cell_type": "code",
   "execution_count": null,
   "id": "f9c0bc70",
   "metadata": {},
   "outputs": [],
   "source": [
    "class User:\n",
    "    def __init__(self, gn, g, t):  # self, game_names, genres, themes):\n",
    "        self.name = \"TESTerrr\"\n",
    "        self.game_names = pd.DataFrame(gn, columns=['name'])\n",
    "        self.genres = pd.DataFrame(g, columns=['name'])\n",
    "        self.themes = pd.DataFrame(t, columns=['name'])\n",
    "\n",
    "# '''    def printUser(self):\n",
    "#         print(self.name, \"'s profile:\\n- \", self.game_names,\n",
    "#               \"\\n- \", self.genres, \"\\n-\", self.themes)'''\n",
    "    # def getIds(self):\n",
    "\n"
   ]
  },
  {
   "cell_type": "code",
   "execution_count": null,
   "id": "047a0a9a",
   "metadata": {},
   "outputs": [],
   "source": [
    "'''USER UPPERCASE AS FIRST LETTER'''\n",
    "gn, g, t = [\"Skyrim\",\"Destiny\",\"Mario Kart\",\"Forza\"],[\"Adventure\",\"Racing\",\"Shooter\"],[\"Action\",\"Survival\"]\n",
    "new_user = User(gn, g, t)\n"
   ]
  },
  {
   "cell_type": "code",
   "execution_count": null,
   "id": "confused-narrative",
   "metadata": {
    "scrolled": true
   },
   "outputs": [],
   "source": [
    "# to be getIDs\n",
    "genre_key = pd.read_csv(\"../DataExtraction/ids_with_genres.csv\", sep=\",\")\n",
    "new_user.genres = new_user.genres.merge(genre_key, how=\"left\", on=\"name\")\n",
    "theme_key = pd.read_csv(\"../DataExtraction/themes_with_ids.csv\", sep=\",\")\n",
    "new_user.themes = new_user.themes.merge(theme_key, how=\"left\", on=\"name\")\n"
   ]
  },
  {
   "cell_type": "markdown",
   "id": "comprehensive-fiber",
   "metadata": {},
   "source": [
    "<h1> example with fake data </h1>\n",
    "\n",
    " EX:\n",
    " `{'name': ['Skyrim', 'Destiny', 'Mario Kart', 'Forza'], 'adventure': [1, 0,0,0], 'racing': [0, 0,1,1], 'shooter': [0, 1,0,0]}`\n"
   ]
  },
  {
   "cell_type": "markdown",
   "id": "pleasant-seeker",
   "metadata": {},
   "source": [
    "##### just use genre and themes for now, like we talked about"
   ]
  },
  {
   "cell_type": "code",
   "execution_count": null,
   "id": "cbf0e043",
   "metadata": {},
   "outputs": [],
   "source": [
    "#def removeNans(array1):\n",
    "    # https://www.kite.com/python/answers/how-to-remove-nan-values-from-a-numpy-array-in-python\n",
    "    # nan_array = np.isnan(array1)\n",
    "    # not_nan_array = ~ nan_array\n",
    "    # array2 = array1[not_nan_array]\n",
    "    # return array2\n"
   ]
  },
  {
   "cell_type": "code",
   "execution_count": null,
   "id": "094fb6a5",
   "metadata": {},
   "outputs": [],
   "source": [
    "games_nona = games[(~games.name.isna()) & (~games.genres.isna()) & (~games.themes.isna())]\n",
    "# to match shapes\n",
    "#games_nona[['genres', 'themes']].dtypes\n",
    "gdf = games_nona[['genres', 'themes']]\n",
    "\n",
    "# gdf.dtypes\n",
    "## later on need to make these categorical\n"
   ]
  },
  {
   "cell_type": "code",
   "execution_count": null,
   "id": "revolutionary-investment",
   "metadata": {},
   "outputs": [],
   "source": [
    "# Features in our model\n",
    "features = [\"genres\", \"themes\"]\n",
    " # train on games dataset\n",
    "X_train_dict = games_nona[features].to_dict(orient=\"records\")\n",
    "# get features from User\n",
    "X_new_dict = {\n",
    "    \"genres\": \"30\", #str(new_user.genres[\"id\"][0]), # starting with one value\n",
    "    \"themes\": \"20\", #str(new_user.themes[\"id\"][0])\n",
    "}\n",
    "Y_train = games_nona[\"name\"]\n",
    "Y_new = new_user.game_names\n",
    "\n",
    "# Dummy encoding\n",
    "vec = DictVectorizer(sparse=False)\n",
    "vec.fit(X_train_dict)\n",
    "X_train = vec.transform(X_train_dict)\n",
    "X_new = vec.transform(X_new_dict)\n",
    "# skip scaling\n",
    "# K-Nearest Neighbors Model\n",
    "model = KNeighborsRegressor(n_neighbors=3)\n",
    "model.fit(X_train, Y_train) # to make x 1d?\n",
    "# # Scikit-Learn expects 2-dimensional arrays, so we need to \n",
    "# # turn the Series into a DataFrame with 1 row.\n",
    "# X_new = X_new.to_frame().T\n",
    "\n",
    "'''model.predict(X_new)'''\n",
    "\n"
   ]
  },
  {
   "cell_type": "markdown",
   "id": "intellectual-stocks",
   "metadata": {},
   "source": [
    "### Other draft:\n",
    "Discarded draft using more than `keyword` and `genre`. Will use later."
   ]
  },
  {
   "cell_type": "code",
   "execution_count": null,
   "id": "ff1521b6",
   "metadata": {},
   "outputs": [],
   "source": [
    "# %matplotlib inline\n",
    "#!pip3 install openpyxl  # package to open xlsx files\n",
    "#!pip3 install xlrd\n",
    "#!pip3 install sklearn\n",
    "import matplotlib.pyplot as plt\n",
    "from scraping_igdb import get_token\n",
    "from User import User\n",
    "import pandas as pd\n",
    "from sklearn.feature_extraction import DictVectorizer\n",
    "from sklearn.preprocessing import StandardScaler\n",
    "from sklearn.neighbors import KNeighborsRegressor\n",
    "'''implement classification alg - KNN classifier'''\n",
    "# will need code to translate game's name to id\n",
    "\n",
    "features = [\"name\", \"id\", \"involved_companies\",\n",
    "            \"platforms\", \"key_words\", \"similar_games\"]\n",
    "\n",
    "# Get user name and ratings\n",
    "new_user = User()\n",
    "new_user.printUser()\n",
    "userFeature = new_user.series\n",
    "\n",
    "# open excel file --> EXCEL READING NOT WORKING?? ## allGames = pd.read_excel(\"IGDB_games_beta.xlsx\")\n",
    "allGames = pd.read_csv(\"IGDB_games_beta.csv\")\n",
    "allGames.columns = [\"id\", \"name\", \"category\", \"genres\", \"themes\",\n",
    "                    \"involved_companies\", \"platforms\", \"key_words\", \"similar_games\", \"release_dates\", ]\n",
    "# allGames.reindex(\"\")\n",
    "print(allGames)\n",
    "# .head() wont work # https://stackoverflow.com/questions/62624980/vscode-python-pandas-dataframe-intellisense-doesnt-show-attributes-method\n",
    "\n",
    "# Borrowed from CMPS3160 Lab08+09\n",
    "X_train_dict = allGames[features].to_dict(orient=\"records\")\n",
    "X_new_dict = [{\n",
    "    'name': new_user.name,\n",
    "    # 'category': new_user.categories,\n",
    "    'genres': new_user.genres,\n",
    "    'consoles': new_user.consoles,\n",
    "    'key_words': new_user.key_words,\n",
    "}]\n",
    "y_train = allGames[\"similar_games\"]\n",
    "\n",
    "# sci-kit preprocessing\n",
    "vec = DictVectorizer(sparse=False)  # training dict --> vector\n",
    "vec.fit(X_train_dict)\n",
    "X_train = vec.transform(X_train_dict)\n",
    "X_new = vec.transform(X_new_dict)\n",
    "\n",
    "scaler = StandardScaler()  # scale training data\n",
    "scaler.fit(X_train)\n",
    "X_train_sc = scaler.transform(X_train)\n",
    "X_new_sc = scaler.transform(X_new)\n",
    "\n",
    "# Fit a 10-nearest neighbors model.\n",
    "model = KNeighborsRegressor(n_neighbors=10)\n",
    "model.fit(X_train_sc, y_train)\n",
    "# Calculate the model predictions on the training data.\n",
    "y_train_pred = model.predict(X_new_sc)\n",
    "print(\"Prediction\", y_train_pred)\n",
    "\n",
    "\n",
    "'''# scraping IGDB\n",
    "headers = get_token()\n",
    "query = requests.post('https://api.igdb.com/v4/games', headers=headers)\n",
    "'''"
   ]
  }
 ],
 "metadata": {
  "kernelspec": {
   "display_name": "Python 3 (ipykernel)",
   "language": "python",
   "name": "python3"
  },
  "language_info": {
   "codemirror_mode": {
    "name": "ipython",
    "version": 3
   },
   "file_extension": ".py",
   "mimetype": "text/x-python",
   "name": "python",
   "nbconvert_exporter": "python",
   "pygments_lexer": "ipython3",
   "version": "3.8.4"
  }
 },
 "nbformat": 4,
 "nbformat_minor": 5
}
