{
 "cells": [
  {
   "cell_type": "markdown",
   "id": "ba7956f8",
   "metadata": {},
   "source": [
    "# Outline"
   ]
  },
  {
   "cell_type": "markdown",
   "id": "0a613c28",
   "metadata": {},
   "source": [
    "* array of acceptable genres\n",
    "* Input: 10 games -->\n",
    "\n",
    "* all movies w/in these genres, w/in accepted\n",
    "* --> console as filer --> genres as filter, queried data - keywords mlo\n",
    "\n",
    "* query: {name:keywords}\n",
    "\n",
    "kelly will do this using postman\n",
    "\n",
    "* data in: name, keywords\n",
    "\n",
    "* process: calculate dist as # common keywords, to keywords in games user chose\n",
    "\n",
    "* output: closest games to target keywords"
   ]
  },
  {
   "cell_type": "markdown",
   "id": "775e7dca",
   "metadata": {},
   "source": [
    "# Code"
   ]
  },
  {
   "cell_type": "code",
   "execution_count": 5,
   "id": "military-married",
   "metadata": {},
   "outputs": [
    {
     "data": {
      "text/html": [
       "<div>\n",
       "<style scoped>\n",
       "    .dataframe tbody tr th:only-of-type {\n",
       "        vertical-align: middle;\n",
       "    }\n",
       "\n",
       "    .dataframe tbody tr th {\n",
       "        vertical-align: top;\n",
       "    }\n",
       "\n",
       "    .dataframe thead th {\n",
       "        text-align: right;\n",
       "    }\n",
       "</style>\n",
       "<table border=\"1\" class=\"dataframe\">\n",
       "  <thead>\n",
       "    <tr style=\"text-align: right;\">\n",
       "      <th></th>\n",
       "      <th>id</th>\n",
       "      <th>category</th>\n",
       "      <th>created_at</th>\n",
       "      <th>external_games</th>\n",
       "      <th>keywords</th>\n",
       "      <th>name</th>\n",
       "      <th>similar_games</th>\n",
       "      <th>slug</th>\n",
       "      <th>tags</th>\n",
       "      <th>updated_at</th>\n",
       "      <th>...</th>\n",
       "      <th>hypes</th>\n",
       "      <th>dlcs</th>\n",
       "      <th>bundles</th>\n",
       "      <th>expansions</th>\n",
       "      <th>expanded_games</th>\n",
       "      <th>version_parent</th>\n",
       "      <th>version_title</th>\n",
       "      <th>remakes</th>\n",
       "      <th>standalone_expansions</th>\n",
       "      <th>remasters</th>\n",
       "    </tr>\n",
       "  </thead>\n",
       "  <tbody>\n",
       "    <tr>\n",
       "      <th>0</th>\n",
       "      <td>73817</td>\n",
       "      <td>0</td>\n",
       "      <td>2017-10-05 00:00:00</td>\n",
       "      <td>[147971, 1870903]</td>\n",
       "      <td>[1097, 1219, 2396, 4260, 5570]</td>\n",
       "      <td>Spy Snatcher</td>\n",
       "      <td>[18290, 58702, 58867, 59500, 59720, 79064, 800...</td>\n",
       "      <td>spy-snatcher</td>\n",
       "      <td>[536872009, 536872131, 536873308, 536875172, 5...</td>\n",
       "      <td>2020-08-26 00:00:00</td>\n",
       "      <td>...</td>\n",
       "      <td>NaN</td>\n",
       "      <td>NaN</td>\n",
       "      <td>NaN</td>\n",
       "      <td>NaN</td>\n",
       "      <td>NaN</td>\n",
       "      <td>NaN</td>\n",
       "      <td>NaN</td>\n",
       "      <td>NaN</td>\n",
       "      <td>NaN</td>\n",
       "      <td>NaN</td>\n",
       "    </tr>\n",
       "    <tr>\n",
       "      <th>1</th>\n",
       "      <td>112119</td>\n",
       "      <td>0</td>\n",
       "      <td>2018-11-16 00:00:00</td>\n",
       "      <td>[1616043, 1911731]</td>\n",
       "      <td>NaN</td>\n",
       "      <td>Woohoojin Bridges</td>\n",
       "      <td>NaN</td>\n",
       "      <td>woohoojin-bridges</td>\n",
       "      <td>NaN</td>\n",
       "      <td>2020-08-26 00:00:00</td>\n",
       "      <td>...</td>\n",
       "      <td>NaN</td>\n",
       "      <td>NaN</td>\n",
       "      <td>NaN</td>\n",
       "      <td>NaN</td>\n",
       "      <td>NaN</td>\n",
       "      <td>NaN</td>\n",
       "      <td>NaN</td>\n",
       "      <td>NaN</td>\n",
       "      <td>NaN</td>\n",
       "      <td>NaN</td>\n",
       "    </tr>\n",
       "    <tr>\n",
       "      <th>2</th>\n",
       "      <td>134130</td>\n",
       "      <td>0</td>\n",
       "      <td>2020-05-24 00:00:00</td>\n",
       "      <td>[1976473]</td>\n",
       "      <td>NaN</td>\n",
       "      <td>Astrå</td>\n",
       "      <td>NaN</td>\n",
       "      <td>astra</td>\n",
       "      <td>NaN</td>\n",
       "      <td>2020-11-06 00:00:00</td>\n",
       "      <td>...</td>\n",
       "      <td>NaN</td>\n",
       "      <td>NaN</td>\n",
       "      <td>NaN</td>\n",
       "      <td>NaN</td>\n",
       "      <td>NaN</td>\n",
       "      <td>NaN</td>\n",
       "      <td>NaN</td>\n",
       "      <td>NaN</td>\n",
       "      <td>NaN</td>\n",
       "      <td>NaN</td>\n",
       "    </tr>\n",
       "    <tr>\n",
       "      <th>3</th>\n",
       "      <td>21667</td>\n",
       "      <td>0</td>\n",
       "      <td>2016-07-28 22:40:49</td>\n",
       "      <td>[115710, 220247, 1923649, 2006171]</td>\n",
       "      <td>[350, 934, 4134, 4144, 4428, 4841, 4964, 5315,...</td>\n",
       "      <td>Siesta Fiesta</td>\n",
       "      <td>[20329, 25646, 28070, 36198, 55173, 55190, 559...</td>\n",
       "      <td>siesta-fiesta</td>\n",
       "      <td>[1, 27, 268435465, 268435486, 268435487, 53687...</td>\n",
       "      <td>2021-10-05 22:26:31</td>\n",
       "      <td>...</td>\n",
       "      <td>NaN</td>\n",
       "      <td>NaN</td>\n",
       "      <td>NaN</td>\n",
       "      <td>NaN</td>\n",
       "      <td>NaN</td>\n",
       "      <td>NaN</td>\n",
       "      <td>NaN</td>\n",
       "      <td>NaN</td>\n",
       "      <td>NaN</td>\n",
       "      <td>NaN</td>\n",
       "    </tr>\n",
       "    <tr>\n",
       "      <th>4</th>\n",
       "      <td>172773</td>\n",
       "      <td>0</td>\n",
       "      <td>2021-10-01 17:42:35</td>\n",
       "      <td>[2127350]</td>\n",
       "      <td>[19521]</td>\n",
       "      <td>Legend Of Yashiyu 2</td>\n",
       "      <td>[54775, 69007, 96217, 99118, 103303, 106987, 1...</td>\n",
       "      <td>legend-of-yashiyu-2</td>\n",
       "      <td>[17, 27, 268435468, 536890433]</td>\n",
       "      <td>2021-10-01 18:16:48</td>\n",
       "      <td>...</td>\n",
       "      <td>NaN</td>\n",
       "      <td>NaN</td>\n",
       "      <td>NaN</td>\n",
       "      <td>NaN</td>\n",
       "      <td>NaN</td>\n",
       "      <td>NaN</td>\n",
       "      <td>NaN</td>\n",
       "      <td>NaN</td>\n",
       "      <td>NaN</td>\n",
       "      <td>NaN</td>\n",
       "    </tr>\n",
       "  </tbody>\n",
       "</table>\n",
       "<p>5 rows × 54 columns</p>\n",
       "</div>"
      ],
      "text/plain": [
       "       id  category           created_at                      external_games  \\\n",
       "0   73817         0  2017-10-05 00:00:00                   [147971, 1870903]   \n",
       "1  112119         0  2018-11-16 00:00:00                  [1616043, 1911731]   \n",
       "2  134130         0  2020-05-24 00:00:00                           [1976473]   \n",
       "3   21667         0  2016-07-28 22:40:49  [115710, 220247, 1923649, 2006171]   \n",
       "4  172773         0  2021-10-01 17:42:35                           [2127350]   \n",
       "\n",
       "                                            keywords                 name  \\\n",
       "0                     [1097, 1219, 2396, 4260, 5570]         Spy Snatcher   \n",
       "1                                                NaN    Woohoojin Bridges   \n",
       "2                                                NaN                Astrå   \n",
       "3  [350, 934, 4134, 4144, 4428, 4841, 4964, 5315,...        Siesta Fiesta   \n",
       "4                                            [19521]  Legend Of Yashiyu 2   \n",
       "\n",
       "                                       similar_games                 slug  \\\n",
       "0  [18290, 58702, 58867, 59500, 59720, 79064, 800...         spy-snatcher   \n",
       "1                                                NaN    woohoojin-bridges   \n",
       "2                                                NaN                astra   \n",
       "3  [20329, 25646, 28070, 36198, 55173, 55190, 559...        siesta-fiesta   \n",
       "4  [54775, 69007, 96217, 99118, 103303, 106987, 1...  legend-of-yashiyu-2   \n",
       "\n",
       "                                                tags           updated_at  \\\n",
       "0  [536872009, 536872131, 536873308, 536875172, 5...  2020-08-26 00:00:00   \n",
       "1                                                NaN  2020-08-26 00:00:00   \n",
       "2                                                NaN  2020-11-06 00:00:00   \n",
       "3  [1, 27, 268435465, 268435486, 268435487, 53687...  2021-10-05 22:26:31   \n",
       "4                     [17, 27, 268435468, 536890433]  2021-10-01 18:16:48   \n",
       "\n",
       "   ... hypes dlcs  bundles  expansions expanded_games version_parent  \\\n",
       "0  ...   NaN  NaN      NaN         NaN            NaN            NaN   \n",
       "1  ...   NaN  NaN      NaN         NaN            NaN            NaN   \n",
       "2  ...   NaN  NaN      NaN         NaN            NaN            NaN   \n",
       "3  ...   NaN  NaN      NaN         NaN            NaN            NaN   \n",
       "4  ...   NaN  NaN      NaN         NaN            NaN            NaN   \n",
       "\n",
       "  version_title remakes standalone_expansions remasters  \n",
       "0           NaN     NaN                   NaN       NaN  \n",
       "1           NaN     NaN                   NaN       NaN  \n",
       "2           NaN     NaN                   NaN       NaN  \n",
       "3           NaN     NaN                   NaN       NaN  \n",
       "4           NaN     NaN                   NaN       NaN  \n",
       "\n",
       "[5 rows x 54 columns]"
      ]
     },
     "execution_count": 5,
     "metadata": {},
     "output_type": "execute_result"
    }
   ],
   "source": [
    "%matplotlib inline\n",
    "import numpy as np\n",
    "import pandas as pd\n",
    "pd.options.display.max_rows = 5\n",
    "from sklearn.feature_extraction import DictVectorizer\n",
    "from sklearn.neighbors import KNeighborsRegressor\n",
    "\n",
    "games = pd.read_csv(\"IGDB_games.csv\", sep=\",\")\n",
    "games.head()"
   ]
  },
  {
   "cell_type": "code",
   "execution_count": 3,
   "id": "f9c0bc70",
   "metadata": {},
   "outputs": [],
   "source": [
    "class User:\n",
    "    def __init__(self, gn, g, t):  # self, game_names, genres, themes):\n",
    "        self.name = \"TESTerrr\"\n",
    "        self.game_names = pd.DataFrame(gn, columns=['name'])\n",
    "        self.genres = pd.DataFrame(g, columns=['name'])\n",
    "        self.themes = pd.DataFrame(t, columns=['name'])\n",
    "\n",
    "# '''    def printUser(self):\n",
    "#         print(self.name, \"'s profile:\\n- \", self.game_names,\n",
    "#               \"\\n- \", self.genres, \"\\n-\", self.themes)'''\n",
    "    # def getIds(self):\n",
    "\n"
   ]
  },
  {
   "cell_type": "code",
   "execution_count": 4,
   "id": "047a0a9a",
   "metadata": {},
   "outputs": [],
   "source": [
    "'''USER UPPERCASE AS FIRST LETTER'''\n",
    "gn, g, t = [\"Skyrim\",\"Destiny\",\"Mario Kart\",\"Forza\"],[\"Adventure\",\"Racing\",\"Shooter\"],[\"Action\",\"Survival\"]\n",
    "new_user = User(gn, g, t)\n"
   ]
  },
  {
   "cell_type": "code",
   "execution_count": 5,
   "id": "confused-narrative",
   "metadata": {
    "scrolled": true
   },
   "outputs": [],
   "source": [
    "# to be getIDs\n",
    "genre_key = pd.read_csv(\"../DataExtraction/ids_with_genres.csv\", sep=\",\")\n",
    "new_user.genres = new_user.genres.merge(genre_key, how=\"left\", on=\"name\")\n",
    "theme_key = pd.read_csv(\"../DataExtraction/themes_with_ids.csv\", sep=\",\")\n",
    "new_user.themes = new_user.themes.merge(theme_key, how=\"left\", on=\"name\")\n"
   ]
  },
  {
   "cell_type": "markdown",
   "id": "comprehensive-fiber",
   "metadata": {},
   "source": [
    "<h1> example with fake data </h1>\n",
    "\n",
    " EX:\n",
    " `{'name': ['Skyrim', 'Destiny', 'Mario Kart', 'Forza'], 'adventure': [1, 0,0,0], 'racing': [0, 0,1,1], 'shooter': [0, 1,0,0]}`\n"
   ]
  },
  {
   "cell_type": "markdown",
   "id": "pleasant-seeker",
   "metadata": {},
   "source": [
    "##### just use genre and themes for now, like we talked about"
   ]
  },
  {
   "cell_type": "code",
   "execution_count": 83,
   "id": "cbf0e043",
   "metadata": {},
   "outputs": [
    {
     "data": {
      "text/plain": [
       "'def removeNans(array1):\\n    # https://www.kite.com/python/answers/how-to-remove-nan-values-from-a-numpy-array-in-python\\n    nan_array = np.isnan(array1)\\n    not_nan_array = ~ nan_array\\n    array2 = array1[not_nan_array]\\n    return array2'"
      ]
     },
     "execution_count": 83,
     "metadata": {},
     "output_type": "execute_result"
    }
   ],
   "source": [
    "'''def removeNans(array1):\n",
    "    # https://www.kite.com/python/answers/how-to-remove-nan-values-from-a-numpy-array-in-python\n",
    "    nan_array = np.isnan(array1)\n",
    "    not_nan_array = ~ nan_array\n",
    "    array2 = array1[not_nan_array]\n",
    "    return array2'''\n"
   ]
  },
  {
   "cell_type": "code",
   "execution_count": 12,
   "id": "094fb6a5",
   "metadata": {},
   "outputs": [],
   "source": [
    "games_nona = games[(~games.name.isna()) & (~games.genres.isna()) & (~games.themes.isna())]\n",
    "# to match shapes\n",
    "#games_nona[['genres', 'themes']].dtypes\n",
    "gdf = games_nona[['genres', 'themes']]\n",
    "\n",
    "# gdf.dtypes\n",
    "## later on need to make these categorical\n"
   ]
  },
  {
   "cell_type": "code",
   "execution_count": 85,
   "id": "revolutionary-investment",
   "metadata": {},
   "outputs": [
    {
     "ename": "TypeError",
     "evalue": "unsupported operand type(s) for /: 'str' and 'int'",
     "output_type": "error",
     "traceback": [
      "\u001b[0;31m---------------------------------------------------------------------------\u001b[0m",
      "\u001b[0;31mTypeError\u001b[0m                                 Traceback (most recent call last)",
      "\u001b[0;32m<ipython-input-85-04bd6b640242>\u001b[0m in \u001b[0;36m<module>\u001b[0;34m\u001b[0m\n\u001b[1;32m     25\u001b[0m \u001b[0;31m# X_new = X_new.to_frame().T\u001b[0m\u001b[0;34m\u001b[0m\u001b[0;34m\u001b[0m\u001b[0;34m\u001b[0m\u001b[0m\n\u001b[1;32m     26\u001b[0m \u001b[0;34m\u001b[0m\u001b[0m\n\u001b[0;32m---> 27\u001b[0;31m \u001b[0mmodel\u001b[0m\u001b[0;34m.\u001b[0m\u001b[0mpredict\u001b[0m\u001b[0;34m(\u001b[0m\u001b[0mX_new\u001b[0m\u001b[0;34m)\u001b[0m\u001b[0;34m\u001b[0m\u001b[0;34m\u001b[0m\u001b[0m\n\u001b[0m\u001b[1;32m     28\u001b[0m \u001b[0;34m\u001b[0m\u001b[0m\n",
      "\u001b[0;32m/Library/Frameworks/Python.framework/Versions/3.8/lib/python3.8/site-packages/sklearn/neighbors/_regression.py\u001b[0m in \u001b[0;36mpredict\u001b[0;34m(self, X)\u001b[0m\n\u001b[1;32m    236\u001b[0m \u001b[0;34m\u001b[0m\u001b[0m\n\u001b[1;32m    237\u001b[0m         \u001b[0;32mif\u001b[0m \u001b[0mweights\u001b[0m \u001b[0;32mis\u001b[0m \u001b[0;32mNone\u001b[0m\u001b[0;34m:\u001b[0m\u001b[0;34m\u001b[0m\u001b[0;34m\u001b[0m\u001b[0m\n\u001b[0;32m--> 238\u001b[0;31m             \u001b[0my_pred\u001b[0m \u001b[0;34m=\u001b[0m \u001b[0mnp\u001b[0m\u001b[0;34m.\u001b[0m\u001b[0mmean\u001b[0m\u001b[0;34m(\u001b[0m\u001b[0m_y\u001b[0m\u001b[0;34m[\u001b[0m\u001b[0mneigh_ind\u001b[0m\u001b[0;34m]\u001b[0m\u001b[0;34m,\u001b[0m \u001b[0maxis\u001b[0m\u001b[0;34m=\u001b[0m\u001b[0;36m1\u001b[0m\u001b[0;34m)\u001b[0m\u001b[0;34m\u001b[0m\u001b[0;34m\u001b[0m\u001b[0m\n\u001b[0m\u001b[1;32m    239\u001b[0m         \u001b[0;32melse\u001b[0m\u001b[0;34m:\u001b[0m\u001b[0;34m\u001b[0m\u001b[0;34m\u001b[0m\u001b[0m\n\u001b[1;32m    240\u001b[0m             \u001b[0my_pred\u001b[0m \u001b[0;34m=\u001b[0m \u001b[0mnp\u001b[0m\u001b[0;34m.\u001b[0m\u001b[0mempty\u001b[0m\u001b[0;34m(\u001b[0m\u001b[0;34m(\u001b[0m\u001b[0mX\u001b[0m\u001b[0;34m.\u001b[0m\u001b[0mshape\u001b[0m\u001b[0;34m[\u001b[0m\u001b[0;36m0\u001b[0m\u001b[0;34m]\u001b[0m\u001b[0;34m,\u001b[0m \u001b[0m_y\u001b[0m\u001b[0;34m.\u001b[0m\u001b[0mshape\u001b[0m\u001b[0;34m[\u001b[0m\u001b[0;36m1\u001b[0m\u001b[0;34m]\u001b[0m\u001b[0;34m)\u001b[0m\u001b[0;34m,\u001b[0m \u001b[0mdtype\u001b[0m\u001b[0;34m=\u001b[0m\u001b[0mnp\u001b[0m\u001b[0;34m.\u001b[0m\u001b[0mfloat64\u001b[0m\u001b[0;34m)\u001b[0m\u001b[0;34m\u001b[0m\u001b[0;34m\u001b[0m\u001b[0m\n",
      "\u001b[0;32m<__array_function__ internals>\u001b[0m in \u001b[0;36mmean\u001b[0;34m(*args, **kwargs)\u001b[0m\n",
      "\u001b[0;32m/Library/Frameworks/Python.framework/Versions/3.8/lib/python3.8/site-packages/numpy/core/fromnumeric.py\u001b[0m in \u001b[0;36mmean\u001b[0;34m(a, axis, dtype, out, keepdims)\u001b[0m\n\u001b[1;32m   3370\u001b[0m             \u001b[0;32mreturn\u001b[0m \u001b[0mmean\u001b[0m\u001b[0;34m(\u001b[0m\u001b[0maxis\u001b[0m\u001b[0;34m=\u001b[0m\u001b[0maxis\u001b[0m\u001b[0;34m,\u001b[0m \u001b[0mdtype\u001b[0m\u001b[0;34m=\u001b[0m\u001b[0mdtype\u001b[0m\u001b[0;34m,\u001b[0m \u001b[0mout\u001b[0m\u001b[0;34m=\u001b[0m\u001b[0mout\u001b[0m\u001b[0;34m,\u001b[0m \u001b[0;34m**\u001b[0m\u001b[0mkwargs\u001b[0m\u001b[0;34m)\u001b[0m\u001b[0;34m\u001b[0m\u001b[0;34m\u001b[0m\u001b[0m\n\u001b[1;32m   3371\u001b[0m \u001b[0;34m\u001b[0m\u001b[0m\n\u001b[0;32m-> 3372\u001b[0;31m     return _methods._mean(a, axis=axis, dtype=dtype,\n\u001b[0m\u001b[1;32m   3373\u001b[0m                           out=out, **kwargs)\n\u001b[1;32m   3374\u001b[0m \u001b[0;34m\u001b[0m\u001b[0m\n",
      "\u001b[0;32m/Library/Frameworks/Python.framework/Versions/3.8/lib/python3.8/site-packages/numpy/core/_methods.py\u001b[0m in \u001b[0;36m_mean\u001b[0;34m(a, axis, dtype, out, keepdims)\u001b[0m\n\u001b[1;32m    160\u001b[0m     \u001b[0mret\u001b[0m \u001b[0;34m=\u001b[0m \u001b[0mumr_sum\u001b[0m\u001b[0;34m(\u001b[0m\u001b[0marr\u001b[0m\u001b[0;34m,\u001b[0m \u001b[0maxis\u001b[0m\u001b[0;34m,\u001b[0m \u001b[0mdtype\u001b[0m\u001b[0;34m,\u001b[0m \u001b[0mout\u001b[0m\u001b[0;34m,\u001b[0m \u001b[0mkeepdims\u001b[0m\u001b[0;34m)\u001b[0m\u001b[0;34m\u001b[0m\u001b[0;34m\u001b[0m\u001b[0m\n\u001b[1;32m    161\u001b[0m     \u001b[0;32mif\u001b[0m \u001b[0misinstance\u001b[0m\u001b[0;34m(\u001b[0m\u001b[0mret\u001b[0m\u001b[0;34m,\u001b[0m \u001b[0mmu\u001b[0m\u001b[0;34m.\u001b[0m\u001b[0mndarray\u001b[0m\u001b[0;34m)\u001b[0m\u001b[0;34m:\u001b[0m\u001b[0;34m\u001b[0m\u001b[0;34m\u001b[0m\u001b[0m\n\u001b[0;32m--> 162\u001b[0;31m         ret = um.true_divide(\n\u001b[0m\u001b[1;32m    163\u001b[0m                 ret, rcount, out=ret, casting='unsafe', subok=False)\n\u001b[1;32m    164\u001b[0m         \u001b[0;32mif\u001b[0m \u001b[0mis_float16_result\u001b[0m \u001b[0;32mand\u001b[0m \u001b[0mout\u001b[0m \u001b[0;32mis\u001b[0m \u001b[0;32mNone\u001b[0m\u001b[0;34m:\u001b[0m\u001b[0;34m\u001b[0m\u001b[0;34m\u001b[0m\u001b[0m\n",
      "\u001b[0;31mTypeError\u001b[0m: unsupported operand type(s) for /: 'str' and 'int'"
     ]
    }
   ],
   "source": [
    "# Features in our model\n",
    "features = [\"genres\", \"themes\"]\n",
    " # train on games dataset\n",
    "X_train_dict = games_nona[features].to_dict(orient=\"records\")\n",
    "# get features from User\n",
    "X_new_dict = {\n",
    "    \"genres\": \"30\", #str(new_user.genres[\"id\"][0]), # starting with one value\n",
    "    \"themes\": \"20\", #str(new_user.themes[\"id\"][0])\n",
    "}\n",
    "Y_train = games_nona[\"name\"]\n",
    "Y_new = new_user.game_names\n",
    "\n",
    "# Dummy encoding\n",
    "vec = DictVectorizer(sparse=False)\n",
    "vec.fit(X_train_dict)\n",
    "X_train = vec.transform(X_train_dict)\n",
    "X_new = vec.transform(X_new_dict)\n",
    "# skip scaling\n",
    "# K-Nearest Neighbors Model\n",
    "model = KNeighborsRegressor(n_neighbors=3)\n",
    "model.fit(X_train, Y_train) # to make x 1d?\n",
    "# # Scikit-Learn expects 2-dimensional arrays, so we need to \n",
    "# # turn the Series into a DataFrame with 1 row.\n",
    "# X_new = X_new.to_frame().T\n",
    "'''model.predict(X_new)'''\n",
    "\n"
   ]
  },
  {
   "cell_type": "code",
   "execution_count": null,
   "id": "intellectual-stocks",
   "metadata": {},
   "outputs": [],
   "source": [
    # %matplotlib inline
#!pip3 install openpyxl  # package to open xlsx files
#!pip3 install xlrd
#!pip3 install sklearn
import matplotlib.pyplot as plt
from scraping_igdb import get_token
from User import User
import pandas as pd
from sklearn.feature_extraction import DictVectorizer
from sklearn.preprocessing import StandardScaler
from sklearn.neighbors import KNeighborsRegressor
'''implement classification alg - KNN classifier'''
# will need code to translate game's name to id

features = ["name", "id", "involved_companies",
            "platforms", "key_words", "similar_games"]

# Get user name and ratings
new_user = User()
new_user.printUser()
userFeature = new_user.series

# open excel file --> EXCEL READING NOT WORKING?? ## allGames = pd.read_excel("IGDB_games_beta.xlsx")
allGames = pd.read_csv("IGDB_games_beta.csv")
allGames.columns = ["id", "name", "category", "genres", "themes",
                    "involved_companies", "platforms", "key_words", "similar_games", "release_dates", ]
# allGames.reindex("")
print(allGames)
# .head() wont work # https://stackoverflow.com/questions/62624980/vscode-python-pandas-dataframe-intellisense-doesnt-show-attributes-method

# Borrowed from CMPS3160 Lab08+09
X_train_dict = allGames[features].to_dict(orient="records")
X_new_dict = [{
    'name': new_user.name,
    # 'category': new_user.categories,
    'genres': new_user.genres,
    'consoles': new_user.consoles,
    'key_words': new_user.key_words,
}]
y_train = allGames["similar_games"]

# sci-kit preprocessing
vec = DictVectorizer(sparse=False)  # training dict --> vector
vec.fit(X_train_dict)
X_train = vec.transform(X_train_dict)
X_new = vec.transform(X_new_dict)

scaler = StandardScaler()  # scale training data
scaler.fit(X_train)
X_train_sc = scaler.transform(X_train)
X_new_sc = scaler.transform(X_new)

# Fit a 10-nearest neighbors model.
model = KNeighborsRegressor(n_neighbors=10)
model.fit(X_train_sc, y_train)
# Calculate the model predictions on the training data.
y_train_pred = model.predict(X_new_sc)
print("Prediction", y_train_pred)


'''# scraping IGDB
headers = get_token()
query = requests.post('https://api.igdb.com/v4/games', headers=headers)
'''
   ]
  }
 ],
 "metadata": {
  "kernelspec": {
   "display_name": "Python 3 (ipykernel)",
   "language": "python",
   "name": "python3"
  },
  "language_info": {
   "codemirror_mode": {
    "name": "ipython",
    "version": 3
   },
   "file_extension": ".py",
   "mimetype": "text/x-python",
   "name": "python",
   "nbconvert_exporter": "python",
   "pygments_lexer": "ipython3",
   "version": "3.8.4"
  }
 },
 "nbformat": 4,
 "nbformat_minor": 5
}
