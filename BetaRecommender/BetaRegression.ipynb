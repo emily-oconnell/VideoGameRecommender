{
 "cells": [
  {
   "cell_type": "markdown",
   "id": "ba7956f8",
   "metadata": {},
   "source": [
    "# Outline"
   ]
  },
  {
   "cell_type": "markdown",
   "id": "0a613c28",
   "metadata": {},
   "source": [
    "* array of acceptable genres\n",
    "* Input: 10 games -->\n",
    "\n",
    "* all movies w/in these genres, w/in accepted\n",
    "* --> console as filer --> genres as filter, queried data - keywords mlo\n",
    "\n",
    "* query: {name:keywords}\n",
    "\n",
    "kelly will do this using postman\n",
    "\n",
    "* data in: name, keywords\n",
    "\n",
    "* process: calculate dist as # common keywords, to keywords in games user chose\n",
    "\n",
    "* output: closest games to target keywords"
   ]
  },
  {
   "cell_type": "markdown",
   "id": "775e7dca",
   "metadata": {},
   "source": [
    "# Code"
   ]
  },
  {
   "cell_type": "code",
   "execution_count": 69,
   "id": "military-married",
   "metadata": {},
   "outputs": [
    {
     "data": {
      "text/html": [
       "<div>\n",
       "<style scoped>\n",
       "    .dataframe tbody tr th:only-of-type {\n",
       "        vertical-align: middle;\n",
       "    }\n",
       "\n",
       "    .dataframe tbody tr th {\n",
       "        vertical-align: top;\n",
       "    }\n",
       "\n",
       "    .dataframe thead th {\n",
       "        text-align: right;\n",
       "    }\n",
       "</style>\n",
       "<table border=\"1\" class=\"dataframe\">\n",
       "  <thead>\n",
       "    <tr style=\"text-align: right;\">\n",
       "      <th></th>\n",
       "      <th>id</th>\n",
       "      <th>category</th>\n",
       "      <th>created_at</th>\n",
       "      <th>external_games</th>\n",
       "      <th>keywords</th>\n",
       "      <th>name</th>\n",
       "      <th>similar_games</th>\n",
       "      <th>slug</th>\n",
       "      <th>tags</th>\n",
       "      <th>updated_at</th>\n",
       "      <th>...</th>\n",
       "      <th>hypes</th>\n",
       "      <th>dlcs</th>\n",
       "      <th>bundles</th>\n",
       "      <th>expansions</th>\n",
       "      <th>expanded_games</th>\n",
       "      <th>version_parent</th>\n",
       "      <th>version_title</th>\n",
       "      <th>remakes</th>\n",
       "      <th>standalone_expansions</th>\n",
       "      <th>remasters</th>\n",
       "    </tr>\n",
       "  </thead>\n",
       "  <tbody>\n",
       "    <tr>\n",
       "      <th>0</th>\n",
       "      <td>73817</td>\n",
       "      <td>0</td>\n",
       "      <td>2017-10-05 00:00:00</td>\n",
       "      <td>[147971, 1870903]</td>\n",
       "      <td>[1097, 1219, 2396, 4260, 5570]</td>\n",
       "      <td>Spy Snatcher</td>\n",
       "      <td>[18290, 58702, 58867, 59500, 59720, 79064, 800...</td>\n",
       "      <td>spy-snatcher</td>\n",
       "      <td>[536872009, 536872131, 536873308, 536875172, 5...</td>\n",
       "      <td>2020-08-26 00:00:00</td>\n",
       "      <td>...</td>\n",
       "      <td>NaN</td>\n",
       "      <td>NaN</td>\n",
       "      <td>NaN</td>\n",
       "      <td>NaN</td>\n",
       "      <td>NaN</td>\n",
       "      <td>NaN</td>\n",
       "      <td>NaN</td>\n",
       "      <td>NaN</td>\n",
       "      <td>NaN</td>\n",
       "      <td>NaN</td>\n",
       "    </tr>\n",
       "    <tr>\n",
       "      <th>1</th>\n",
       "      <td>112119</td>\n",
       "      <td>0</td>\n",
       "      <td>2018-11-16 00:00:00</td>\n",
       "      <td>[1616043, 1911731]</td>\n",
       "      <td>NaN</td>\n",
       "      <td>Woohoojin Bridges</td>\n",
       "      <td>NaN</td>\n",
       "      <td>woohoojin-bridges</td>\n",
       "      <td>NaN</td>\n",
       "      <td>2020-08-26 00:00:00</td>\n",
       "      <td>...</td>\n",
       "      <td>NaN</td>\n",
       "      <td>NaN</td>\n",
       "      <td>NaN</td>\n",
       "      <td>NaN</td>\n",
       "      <td>NaN</td>\n",
       "      <td>NaN</td>\n",
       "      <td>NaN</td>\n",
       "      <td>NaN</td>\n",
       "      <td>NaN</td>\n",
       "      <td>NaN</td>\n",
       "    </tr>\n",
       "    <tr>\n",
       "      <th>...</th>\n",
       "      <td>...</td>\n",
       "      <td>...</td>\n",
       "      <td>...</td>\n",
       "      <td>...</td>\n",
       "      <td>...</td>\n",
       "      <td>...</td>\n",
       "      <td>...</td>\n",
       "      <td>...</td>\n",
       "      <td>...</td>\n",
       "      <td>...</td>\n",
       "      <td>...</td>\n",
       "      <td>...</td>\n",
       "      <td>...</td>\n",
       "      <td>...</td>\n",
       "      <td>...</td>\n",
       "      <td>...</td>\n",
       "      <td>...</td>\n",
       "      <td>...</td>\n",
       "      <td>...</td>\n",
       "      <td>...</td>\n",
       "      <td>...</td>\n",
       "    </tr>\n",
       "    <tr>\n",
       "      <th>11008</th>\n",
       "      <td>28387</td>\n",
       "      <td>0</td>\n",
       "      <td>2017-05-02 16:09:39</td>\n",
       "      <td>[12293, 137034, 281289, 1708343]</td>\n",
       "      <td>[464, 1026]</td>\n",
       "      <td>CABAL Online</td>\n",
       "      <td>[28309, 30245, 34155, 35994, 55038, 55199, 103...</td>\n",
       "      <td>cabal-online</td>\n",
       "      <td>[1, 268435460, 268435468, 536871376, 536871938]</td>\n",
       "      <td>2021-04-19 17:09:56</td>\n",
       "      <td>...</td>\n",
       "      <td>1.0</td>\n",
       "      <td>NaN</td>\n",
       "      <td>NaN</td>\n",
       "      <td>NaN</td>\n",
       "      <td>NaN</td>\n",
       "      <td>NaN</td>\n",
       "      <td>NaN</td>\n",
       "      <td>NaN</td>\n",
       "      <td>NaN</td>\n",
       "      <td>NaN</td>\n",
       "    </tr>\n",
       "    <tr>\n",
       "      <th>11009</th>\n",
       "      <td>70300</td>\n",
       "      <td>0</td>\n",
       "      <td>2017-09-28 00:00:00</td>\n",
       "      <td>[142023, 1874213]</td>\n",
       "      <td>[1166]</td>\n",
       "      <td>Gold, Silver, Bronze</td>\n",
       "      <td>[15851, 109606, 113149, 113895, 116352, 116353...</td>\n",
       "      <td>gold-silver-bronze</td>\n",
       "      <td>[1, 268435470, 536872078]</td>\n",
       "      <td>2020-08-26 00:00:00</td>\n",
       "      <td>...</td>\n",
       "      <td>NaN</td>\n",
       "      <td>NaN</td>\n",
       "      <td>NaN</td>\n",
       "      <td>NaN</td>\n",
       "      <td>NaN</td>\n",
       "      <td>NaN</td>\n",
       "      <td>NaN</td>\n",
       "      <td>NaN</td>\n",
       "      <td>NaN</td>\n",
       "      <td>NaN</td>\n",
       "    </tr>\n",
       "  </tbody>\n",
       "</table>\n",
       "<p>11010 rows × 54 columns</p>\n",
       "</div>"
      ],
      "text/plain": [
       "           id  category           created_at  \\\n",
       "0       73817         0  2017-10-05 00:00:00   \n",
       "1      112119         0  2018-11-16 00:00:00   \n",
       "...       ...       ...                  ...   \n",
       "11008   28387         0  2017-05-02 16:09:39   \n",
       "11009   70300         0  2017-09-28 00:00:00   \n",
       "\n",
       "                         external_games                        keywords  \\\n",
       "0                     [147971, 1870903]  [1097, 1219, 2396, 4260, 5570]   \n",
       "1                    [1616043, 1911731]                             NaN   \n",
       "...                                 ...                             ...   \n",
       "11008  [12293, 137034, 281289, 1708343]                     [464, 1026]   \n",
       "11009                 [142023, 1874213]                          [1166]   \n",
       "\n",
       "                       name  \\\n",
       "0              Spy Snatcher   \n",
       "1         Woohoojin Bridges   \n",
       "...                     ...   \n",
       "11008          CABAL Online   \n",
       "11009  Gold, Silver, Bronze   \n",
       "\n",
       "                                           similar_games                slug  \\\n",
       "0      [18290, 58702, 58867, 59500, 59720, 79064, 800...        spy-snatcher   \n",
       "1                                                    NaN   woohoojin-bridges   \n",
       "...                                                  ...                 ...   \n",
       "11008  [28309, 30245, 34155, 35994, 55038, 55199, 103...        cabal-online   \n",
       "11009  [15851, 109606, 113149, 113895, 116352, 116353...  gold-silver-bronze   \n",
       "\n",
       "                                                    tags           updated_at  \\\n",
       "0      [536872009, 536872131, 536873308, 536875172, 5...  2020-08-26 00:00:00   \n",
       "1                                                    NaN  2020-08-26 00:00:00   \n",
       "...                                                  ...                  ...   \n",
       "11008    [1, 268435460, 268435468, 536871376, 536871938]  2021-04-19 17:09:56   \n",
       "11009                          [1, 268435470, 536872078]  2020-08-26 00:00:00   \n",
       "\n",
       "       ... hypes dlcs  bundles  expansions expanded_games version_parent  \\\n",
       "0      ...   NaN  NaN      NaN         NaN            NaN            NaN   \n",
       "1      ...   NaN  NaN      NaN         NaN            NaN            NaN   \n",
       "...    ...   ...  ...      ...         ...            ...            ...   \n",
       "11008  ...   1.0  NaN      NaN         NaN            NaN            NaN   \n",
       "11009  ...   NaN  NaN      NaN         NaN            NaN            NaN   \n",
       "\n",
       "      version_title remakes standalone_expansions remasters  \n",
       "0               NaN     NaN                   NaN       NaN  \n",
       "1               NaN     NaN                   NaN       NaN  \n",
       "...             ...     ...                   ...       ...  \n",
       "11008           NaN     NaN                   NaN       NaN  \n",
       "11009           NaN     NaN                   NaN       NaN  \n",
       "\n",
       "[11010 rows x 54 columns]"
      ]
     },
     "execution_count": 69,
     "metadata": {},
     "output_type": "execute_result"
    }
   ],
   "source": [
    "%matplotlib inline\n",
    "import numpy as np\n",
    "import pandas as pd\n",
    "pd.options.display.max_rows = 5\n",
    "from sklearn.feature_extraction import DictVectorizer\n",
    "from sklearn.neighbors import KNeighborsRegressor\n",
    "\n",
    "games = pd.read_csv(\"IGDB_games.csv\", sep=\",\")\n",
    "games"
   ]
  },
  {
   "cell_type": "code",
   "execution_count": 61,
   "id": "f9c0bc70",
   "metadata": {},
   "outputs": [],
   "source": [
    "class User:\n",
    "    def __init__(self, gn, g, t):  # self, game_names, genres, themes):\n",
    "        self.name = \"TESTerrr\"\n",
    "        self.game_names = pd.DataFrame(gn, columns=['name'])\n",
    "        self.genres = pd.DataFrame(g, columns=['name'])\n",
    "        self.themes = pd.DataFrame(t, columns=['name'])\n",
    "\n",
    "# '''    def printUser(self):\n",
    "#         print(self.name, \"'s profile:\\n- \", self.game_names,\n",
    "#               \"\\n- \", self.genres, \"\\n-\", self.themes)'''\n",
    "    # def getIds(self):\n",
    "\n"
   ]
  },
  {
   "cell_type": "code",
   "execution_count": 63,
   "id": "047a0a9a",
   "metadata": {},
   "outputs": [],
   "source": [
    "'''USER UPPERCASE AS FIRST LETTER'''\n",
    "gn, g, t = [\"Skyrim\",\"Destiny\",\"Mario Kart\",\"Forza\"],[\"Adventure\",\"Racing\",\"Shooter\"],[\"Action\",\"Survival\"]\n",
    "new_user = User(gn, g, t)\n",
    "\n",
    "\n",
    "# type(new_user.genres)"
   ]
  },
  {
   "cell_type": "code",
   "execution_count": 76,
   "id": "confused-narrative",
   "metadata": {
    "scrolled": true
   },
   "outputs": [
    {
     "data": {
      "text/html": [
       "<div>\n",
       "<style scoped>\n",
       "    .dataframe tbody tr th:only-of-type {\n",
       "        vertical-align: middle;\n",
       "    }\n",
       "\n",
       "    .dataframe tbody tr th {\n",
       "        vertical-align: top;\n",
       "    }\n",
       "\n",
       "    .dataframe thead th {\n",
       "        text-align: right;\n",
       "    }\n",
       "</style>\n",
       "<table border=\"1\" class=\"dataframe\">\n",
       "  <thead>\n",
       "    <tr style=\"text-align: right;\">\n",
       "      <th></th>\n",
       "      <th>name</th>\n",
       "      <th>id</th>\n",
       "    </tr>\n",
       "  </thead>\n",
       "  <tbody>\n",
       "    <tr>\n",
       "      <th>0</th>\n",
       "      <td>Action</td>\n",
       "      <td>1</td>\n",
       "    </tr>\n",
       "    <tr>\n",
       "      <th>1</th>\n",
       "      <td>Survival</td>\n",
       "      <td>21</td>\n",
       "    </tr>\n",
       "  </tbody>\n",
       "</table>\n",
       "</div>"
      ],
      "text/plain": [
       "       name  id\n",
       "0    Action   1\n",
       "1  Survival  21"
      ]
     },
     "execution_count": 76,
     "metadata": {},
     "output_type": "execute_result"
    }
   ],
   "source": [
    "# to be getIDs\n",
    "genre_key = pd.read_csv(\"../DataExtraction/ids_with_genres.csv\", sep=\",\")\n",
    "new_user.genres = new_user.genres.merge(genre_key, how=\"left\", on=\"name\")\n",
    "theme_key = pd.read_csv(\"../DataExtraction/themes_with_ids.csv\", sep=\",\")\n",
    "new_user.themes = new_user.themes.merge(theme_key, how=\"left\", on=\"name\")\n",
    "new_user.themes \n"
   ]
  },
  {
   "cell_type": "markdown",
   "id": "comprehensive-fiber",
   "metadata": {},
   "source": [
    "<h1> example with fake data </h1>\n",
    "\n",
    " EX:\n",
    " `{'name': ['Skyrim', 'Destiny', 'Mario Kart', 'Forza'], 'adventure': [1, 0,0,0], 'racing': [0, 0,1,1], 'shooter': [0, 1,0,0]}`\n"
   ]
  },
  {
   "cell_type": "markdown",
   "id": "pleasant-seeker",
   "metadata": {},
   "source": [
    "##### just use genre and themes for now, like we talked about"
   ]
  },
  {
   "cell_type": "code",
   "execution_count": 83,
   "id": "revolutionary-investment",
   "metadata": {},
   "outputs": [
    {
     "data": {
      "text/plain": [
       "array([[31.,  0.,  0.,  0.,  0.,  0.,  0.,  0.,  0.,  0.,  0.,  0.,  0.,\n",
       "         0.,  0.,  0.,  0.,  0.,  0.,  0.,  0.,  0.,  0.,  0.,  0.,  0.,\n",
       "         0.,  0.,  0.,  0.,  0.,  0.,  0.,  0.,  0.,  0.,  0.,  0.,  0.,\n",
       "         0.,  0.,  0.,  0.,  0.,  0.,  0.,  0.,  0.,  0.,  0.,  0.,  0.,\n",
       "         0.,  0.,  0.,  0.,  0.,  0.,  0.,  0.,  0.,  0.,  0.,  0.,  0.,\n",
       "         0.,  0.,  0.,  0.,  0.,  0.,  0.,  0.,  0.,  0.,  0.,  0.,  0.,\n",
       "         0.,  0.,  0.,  0.,  0.,  0.,  0.,  0.,  0.,  0.,  0.,  0.,  0.,\n",
       "         0.,  0.,  0.,  0.,  0.,  0.,  0.,  0.,  0.,  0.,  0.,  0.,  0.,\n",
       "         0.,  0.,  0.,  0.,  0.,  0.,  0.,  0.,  0.,  0.,  0.,  0.,  0.,\n",
       "         0.,  0.,  0.,  0.,  0.,  0.,  0.,  0.,  0.,  0.,  0.,  0.,  0.,\n",
       "         0.,  0.,  0.,  0.,  0.,  0.,  0.,  0.,  0.,  0.,  0.,  0.,  0.,\n",
       "         0.,  0.,  0.,  0.,  0.,  0.,  0.,  0.,  0.,  0.,  0.,  0.,  0.,\n",
       "         0.,  0.,  0.,  0.,  0.,  0.,  0.,  0.,  0.,  0.,  0.,  0.,  0.,\n",
       "         0.,  0.,  0.,  0.,  0.,  0.,  0.,  0.,  0.,  0.,  0.,  0.,  0.,\n",
       "         0.,  0.,  0.,  0.,  0.,  0.,  0.,  0.,  0.,  0.,  0.,  0.,  0.,\n",
       "         0.,  0.,  0.,  0.,  0.,  0.,  0.,  0.,  0.,  0.,  0.,  0.,  0.,\n",
       "         0.,  0.,  0.,  0.,  0.,  0.,  0.,  0.,  0.,  0.,  0.,  0.,  0.,\n",
       "         0.,  0.,  0.,  0.,  0.,  0.,  0.,  0.,  0.,  0.,  0.,  0.,  0.,\n",
       "         0.,  0.,  0.,  0.,  0.,  0.,  0.,  0.,  0.,  0.,  0.,  0.,  0.,\n",
       "         0.,  0.,  0.,  0.,  0.,  0.,  0.,  0.,  0.,  0.,  0.,  0.,  0.,\n",
       "         0.,  0.,  0.,  0.,  0.,  0.,  0.,  0.,  0.,  0.,  0.,  0.,  0.,\n",
       "         0.,  0.,  0.,  0.,  0.,  0.,  0.,  0.,  0.,  0.,  0.,  0.,  0.,\n",
       "         0.,  0.,  0.,  0.,  0.,  0.,  0.,  0.,  0.,  0.,  0.,  0.,  0.,\n",
       "         0.,  0.,  0.,  0.,  0.,  0.,  0.,  0.,  0.,  0.,  0.,  0.,  0.,\n",
       "         0.,  0.,  0.,  0.,  0.,  0.,  0.,  0.,  0.,  0.,  0.,  0.,  0.,\n",
       "         0.,  0.,  0.,  0.,  0.,  0.,  0.,  0.,  0.,  0.,  0.,  0.,  0.,\n",
       "         0.,  0.,  0.,  0.,  0.,  0.,  0.,  0.,  0.,  0.,  0.,  0.,  0.,\n",
       "         0.,  0.,  0.,  0.,  0.,  0.,  0.,  0.,  0.,  0.,  0.,  0.,  0.,\n",
       "         0.,  0.,  0.,  0.,  0.,  0.,  0.,  0.,  0.,  0.,  0.,  0.,  0.,\n",
       "         0.,  0.,  0.,  0.,  0.,  0.,  0.,  0.,  0.,  0.,  0.,  0.,  0.,\n",
       "         0.,  0.,  0.,  0.,  0.,  0.,  0.,  0.,  0.,  0.,  0.,  0.,  0.,\n",
       "         0.,  0.,  0.,  0.,  0.,  0.,  0.,  0.,  0.,  0.,  0.,  0.,  0.,\n",
       "         0.,  0.,  0.,  0.,  0.,  0.,  0.,  0.,  0.,  0.,  0.,  0.,  0.,\n",
       "         0.,  0.,  0.,  0.,  0.,  0.,  0.,  0.,  0.,  0.,  0.,  0.,  0.,\n",
       "         0.,  0.,  0.,  0.,  0.,  0.,  0.,  0.,  0.,  0.,  0.,  0.,  0.,\n",
       "         0.,  0.,  0.,  0.,  0.,  0.,  0.,  0.,  0.,  0.,  0.,  0.,  0.,\n",
       "         0.,  0.,  0.,  0.,  0.,  1.,  0.,  0.,  0.,  0.,  0.,  0.,  0.,\n",
       "         0.,  0.,  0.,  0.,  0.,  0.,  0.,  0.,  0.,  0.,  0.,  0.,  0.,\n",
       "         0.,  0.,  0.,  0.,  0.,  0.,  0.,  0.,  0.,  0.,  0.,  0.,  0.,\n",
       "         0.,  0.,  0.,  0.,  0.,  0.,  0.,  0.,  0.,  0.,  0.,  0.,  0.,\n",
       "         0.,  0.,  0.,  0.,  0.,  0.,  0.,  0.,  0.,  0.,  0.,  0.,  0.,\n",
       "         0.,  0.,  0.,  0.,  0.,  0.,  0.,  0.,  0.,  0.,  0.,  0.,  0.,\n",
       "         0.,  0.,  0.,  0.,  0.,  0.,  0.,  0.,  0.,  0.,  0.,  0.,  0.,\n",
       "         0.,  0.,  0.,  0.,  0.,  0.,  0.,  0.,  0.,  0.,  0.,  0.,  0.,\n",
       "         0.,  0.,  0.,  0.,  0.,  0.,  0.,  0.,  0.,  0.,  0.,  0.,  0.,\n",
       "         0.,  0.,  0.,  0.,  0.,  0.,  0.,  0.,  0.,  0.,  0.,  0.,  0.,\n",
       "         0.,  0.,  0.,  0.,  0.,  0.,  0.,  0.,  0.,  0.,  0.,  0.,  0.,\n",
       "         0.,  0.,  0.,  0.,  0.,  0.,  0.,  0.,  0.,  0.,  0.,  0.,  0.,\n",
       "         0.,  0.,  0.,  0.,  0.,  0.,  0.,  0.,  0.,  0.,  0.,  0.,  0.,\n",
       "         0.,  0.,  0.,  0.,  0.,  0.,  0.,  0.,  0.,  0.,  0.,  0.,  0.,\n",
       "         0.,  0.,  0.,  0.,  0.,  0.,  0.,  0.,  0.,  0.,  0.,  0.,  0.,\n",
       "         0.,  0.,  0.,  0.,  0.,  0.,  0.,  0.,  0.,  0.,  0.,  0.,  0.,\n",
       "         0.,  0.,  0.,  0.,  0.,  0.,  0.,  0.,  0.,  0.,  0.,  0.,  0.,\n",
       "         0.,  0.,  0.,  0.,  0.,  0.,  0.,  0.,  0.,  0.,  0.,  0.,  0.,\n",
       "         0.,  0.,  0.,  0.,  0.,  0.,  0.,  0.,  0.,  0.,  0.,  0.,  0.,\n",
       "         0.,  0.,  0.,  0.,  0.,  0.,  0.,  0.,  0.]])"
      ]
     },
     "execution_count": 83,
     "metadata": {},
     "output_type": "execute_result"
    }
   ],
   "source": [
    "# Features in our model\n",
    "\n",
    "features = [\"genres\", \"themes\"]\n",
    "\n",
    "X_train_dict = games[features].to_dict(orient=\"records\")\n",
    "X_new_dict = {\n",
    "    \"genres\": new_user.genres[\"id\"][0], # starting with one value\n",
    "    \"themes\": new_user.themes[\"id\"][0]\n",
    "}\n",
    "# y_train = games[\"name\"]\n",
    "\n",
    "# Dummy encoding\n",
    "vec = DictVectorizer(sparse=False)\n",
    "vec.fit(X_train_dict)\n",
    "X_train = vec.transform(X_train_dict)\n",
    "X_new = vec.transform(X_new_dict)\n",
    "\n",
    "# skip scaling\n",
    "\n",
    "# K-Nearest Neighbors Model\n",
    "model = KNeighborsRegressor(n_neighbors=30)\n",
    "model.fit(X_train_sc, y_train)\n",
    "model.predict(X_new_sc)"
   ]
  },
  {
   "cell_type": "code",
   "execution_count": null,
   "id": "cordless-railway",
   "metadata": {},
   "outputs": [],
   "source": [
    "X_train = df[[\"adventure\", \"racing\", \"shooter\"]]\n",
    "y_train = df[\"name\"]\n",
    "\n",
    "X_train_sc = (X_train - X_train.mean()) / X_train.std()"
   ]
  },
  {
   "cell_type": "code",
   "execution_count": null,
   "id": "foreign-animal",
   "metadata": {},
   "outputs": [],
   "source": [
    "x_new = pd.Series(dtype=int)\n",
    "x_new[\"adventure\"] = 0\n",
    "x_new[\"racing\"] = 1\n",
    "x_new[\"shooter\"] = 0\n",
    "\n",
    "x_new_sc = (x_new - X_train.mean()) / X_train.std()\n",
    "x_new_sc"
   ]
  },
  {
   "cell_type": "code",
   "execution_count": null,
   "id": "revolutionary-dodge",
   "metadata": {},
   "outputs": [],
   "source": [
    "dists = np.sqrt(((X_train_sc - x_new_sc) ** 2).sum(axis=1))\n",
    "dists_sorted = dists.sort_values()\n",
    "dists_sorted"
   ]
  },
  {
   "cell_type": "code",
   "execution_count": null,
   "id": "polar-tooth",
   "metadata": {},
   "outputs": [],
   "source": [
    "inds_nearest = dists_sorted.index[:9]\n",
    "inds_nearest"
   ]
  },
  {
   "cell_type": "code",
   "execution_count": null,
   "id": "norman-riding",
   "metadata": {},
   "outputs": [],
   "source": [
    "df.loc[inds_nearest]"
   ]
  },
  {
   "cell_type": "markdown",
   "id": "heavy-cosmetic",
   "metadata": {},
   "source": [
    "<h1> example with 100 games </h1>\n",
    "I can't work :("
   ]
  },
  {
   "cell_type": "code",
   "execution_count": null,
   "id": "shared-turner",
   "metadata": {},
   "outputs": [],
   "source": [
    "# read the csv with all the games\n",
    "games = pd.read_csv(\"test_dataset.csv\", sep=\",\")\n",
    "\n",
    "# split the string into a list of strings\n",
    "games.genres = games.genres.str.split(', ').to_frame()\n",
    "\n",
    "# fill in [0] for all the NaN values\n",
    "games['genres'] = games['genres'].fillna({i: [0] for i in df.index})\n",
    "\n",
    "games['genres'][97]"
   ]
  },
  {
   "cell_type": "code",
   "execution_count": null,
   "id": "unlikely-alfred",
   "metadata": {},
   "outputs": [],
   "source": [
    "# convert the list of strings into a list of ints\n",
    "for i, genre_list in enumerate(games.genres):\n",
    "    for genre in genre_list:\n",
    "        games.genres[i] = list(map(int, games.genres[i]))"
   ]
  },
  {
   "cell_type": "code",
   "execution_count": null,
   "id": "increased-retirement",
   "metadata": {},
   "outputs": [],
   "source": [
    "# Getting distinct genre types for generating columns of genre type.\n",
    "genre_columns = list(set([j for i in games['genres'].tolist() for j in i]))"
   ]
  },
  {
   "cell_type": "code",
   "execution_count": null,
   "id": "reflected-baltimore",
   "metadata": {},
   "outputs": [],
   "source": [
    "# copy over name and id columns to new df\n",
    "selected_columns = games[[\"id\",\"name\"]]\n",
    "genre_df = selected_columns.copy()"
   ]
  },
  {
   "cell_type": "code",
   "execution_count": null,
   "id": "aggregate-albert",
   "metadata": {},
   "outputs": [],
   "source": [
    "# Iterating over every list to create and fill values into columns.\n",
    "for j in genre_columns:\n",
    "    genre_df[j] = 0\n",
    "for i in range(games.shape[0]):\n",
    "    for j in genre_columns:\n",
    "        if(j in games['genres'].iloc[i]):\n",
    "            genre_df.loc[i,j] = 1"
   ]
  },
  {
   "cell_type": "code",
   "execution_count": null,
   "id": "distinct-oliver",
   "metadata": {},
   "outputs": [],
   "source": [
    "genre_df"
   ]
  },
  {
   "cell_type": "code",
   "execution_count": null,
   "id": "arctic-consideration",
   "metadata": {},
   "outputs": [],
   "source": [
    "# Features in our model. All quantitative, except Neighborhood.\n",
    "features = genre_columns\n",
    "\n",
    "X_train_dict = genre_df[features].to_dict(orient=\"records\")\n",
    "y_train = genre_df[\"name\"]"
   ]
  },
  {
   "cell_type": "code",
   "execution_count": null,
   "id": "exterior-extra",
   "metadata": {},
   "outputs": [],
   "source": [
    "X_train = genre_df[genre_columns]\n",
    "y_train = genre_df[\"name\"]\n",
    "\n",
    "X_train_sc = (X_train - X_train.mean()) / X_train.std()"
   ]
  },
  {
   "cell_type": "code",
   "execution_count": null,
   "id": "dedicated-account",
   "metadata": {},
   "outputs": [],
   "source": [
    "x_new = pd.Series(0, index=genre_columns)\n",
    "\n",
    "x_new[9] = 1\n",
    "x_new[30] = 1\n",
    "x_new[31] = 1\n",
    "\n",
    "x_new_sc = (x_new - X_train.mean()) / X_train.std()\n",
    "x_new_sc"
   ]
  },
  {
   "cell_type": "code",
   "execution_count": null,
   "id": "vocal-performer",
   "metadata": {},
   "outputs": [],
   "source": [
    "dists = np.sqrt(((X_train_sc - x_new_sc) ** 2).sum(axis=1))\n",
    "dists_sorted = dists.sort_values()\n",
    "dists_sorted"
   ]
  },
  {
   "cell_type": "code",
   "execution_count": null,
   "id": "caring-theology",
   "metadata": {},
   "outputs": [],
   "source": [
    "inds_nearest = dists_sorted.index[:9]\n",
    "inds_nearest"
   ]
  },
  {
   "cell_type": "code",
   "execution_count": null,
   "id": "elect-merchant",
   "metadata": {},
   "outputs": [],
   "source": [
    "genre_df.loc[inds_nearest]"
   ]
  },
  {
   "cell_type": "code",
   "execution_count": null,
   "id": "subject-cylinder",
   "metadata": {},
   "outputs": [],
   "source": []
  },
  {
   "cell_type": "code",
   "execution_count": null,
   "id": "attended-pattern",
   "metadata": {},
   "outputs": [],
   "source": []
  },
  {
   "cell_type": "code",
   "execution_count": null,
   "id": "orange-marsh",
   "metadata": {},
   "outputs": [],
   "source": []
  },
  {
   "cell_type": "code",
   "execution_count": null,
   "id": "regulated-dragon",
   "metadata": {},
   "outputs": [],
   "source": []
  },
  {
   "cell_type": "code",
   "execution_count": null,
   "id": "indian-wallpaper",
   "metadata": {},
   "outputs": [],
   "source": []
  },
  {
   "cell_type": "code",
   "execution_count": null,
   "id": "intellectual-stocks",
   "metadata": {},
   "outputs": [],
   "source": []
  }
 ],
 "metadata": {
  "kernelspec": {
   "display_name": "Python 3 (ipykernel)",
   "language": "python",
   "name": "python3"
  },
  "language_info": {
   "codemirror_mode": {
    "name": "ipython",
    "version": 3
   },
   "file_extension": ".py",
   "mimetype": "text/x-python",
   "name": "python",
   "nbconvert_exporter": "python",
   "pygments_lexer": "ipython3",
   "version": "3.8.4"
  }
 },
 "nbformat": 4,
 "nbformat_minor": 5
}
