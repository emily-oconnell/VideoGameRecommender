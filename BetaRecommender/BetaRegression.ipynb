{
 "cells": [
  {
   "cell_type": "markdown",
   "id": "ba7956f8",
   "metadata": {},
   "source": [
    "# Outline"
   ]
  },
  {
   "cell_type": "markdown",
   "id": "0a613c28",
   "metadata": {},
   "source": [
    "* array of acceptable genres\n",
    "* Input: 10 games -->\n",
    "\n",
    "* all movies w/in these genres, w/in accepted\n",
    "* --> console as filer --> genres as filter, queried data - keywords mlo\n",
    "\n",
    "* query: {name:keywords}\n",
    "\n",
    "kelly will do this using postman\n",
    "\n",
    "* data in: name, keywords\n",
    "\n",
    "* process: calculate dist as # common keywords, to keywords in games user chose\n",
    "\n",
    "* output: closest games to target keywords"
   ]
  },
  {
   "cell_type": "markdown",
   "id": "775e7dca",
   "metadata": {},
   "source": [
    "# Code"
   ]
  },
  {
   "cell_type": "code",
   "execution_count": 35,
   "id": "military-married",
   "metadata": {},
   "outputs": [],
   "source": [
    "%matplotlib inline\n",
    "import numpy as np\n",
    "import pandas as pd\n",
    "pd.options.display.max_rows = 5\n",
    "\n",
    "from User import User # import user class\n",
    "\n",
    "games = pd.read_csv(\"IGDB_games.csv\", sep=\",\")\n",
    "# games[\"genres\"].unique()"
   ]
  },
  {
   "cell_type": "code",
   "execution_count": 38,
   "id": "047a0a9a",
   "metadata": {},
   "outputs": [
    {
     "name": "stdout",
     "output_type": "stream",
     "text": [
      "TEST 's profile:\n",
      "-  ['Skyrim', 'Destiny', 'Mario Kart', 'Forza'] \n",
      "-  ['adventure', 'racing', 'shooter'] \n",
      "- ['action', 'survival']\n"
     ]
    },
    {
     "data": {
      "text/plain": [
       "list"
      ]
     },
     "execution_count": 38,
     "metadata": {},
     "output_type": "execute_result"
    }
   ],
   "source": [
    "games,genres,themes = [\"Skyrim\",\"Destiny\",\"Mario Kart\",\"Forza\"],[\"adventure\",\"racing\",\"shooter\"],[\"action\",\"survival\"]\n",
    "new_user = User(games,genres,themes)\n",
    "new_user.printUser()\n",
    "\n",
    "type(new_user.genres)"
   ]
  },
  {
   "cell_type": "code",
   "execution_count": 40,
   "id": "confused-narrative",
   "metadata": {
    "scrolled": true
   },
   "outputs": [
    {
     "ename": "AttributeError",
     "evalue": "'list' object has no attribute 'merge'",
     "output_type": "error",
     "traceback": [
      "\u001b[0;31m---------------------------------------------------------------------------\u001b[0m",
      "\u001b[0;31mAttributeError\u001b[0m                            Traceback (most recent call last)",
      "\u001b[0;32m<ipython-input-40-df1896f2b4e4>\u001b[0m in \u001b[0;36m<module>\u001b[0;34m\u001b[0m\n\u001b[1;32m      1\u001b[0m \u001b[0mgenre_key\u001b[0m \u001b[0;34m=\u001b[0m \u001b[0mpd\u001b[0m\u001b[0;34m.\u001b[0m\u001b[0mread_csv\u001b[0m\u001b[0;34m(\u001b[0m\u001b[0;34m\"../DataExtraction/ids_with_genres.csv\"\u001b[0m\u001b[0;34m,\u001b[0m \u001b[0msep\u001b[0m\u001b[0;34m=\u001b[0m\u001b[0;34m\",\"\u001b[0m\u001b[0;34m)\u001b[0m\u001b[0;34m\u001b[0m\u001b[0;34m\u001b[0m\u001b[0m\n\u001b[1;32m      2\u001b[0m \u001b[0;34m\u001b[0m\u001b[0m\n\u001b[0;32m----> 3\u001b[0;31m \u001b[0mnew_user\u001b[0m\u001b[0;34m.\u001b[0m\u001b[0mgenres\u001b[0m \u001b[0;34m=\u001b[0m \u001b[0mnew_user\u001b[0m\u001b[0;34m.\u001b[0m\u001b[0mgenres\u001b[0m\u001b[0;34m.\u001b[0m\u001b[0mmerge\u001b[0m\u001b[0;34m(\u001b[0m\u001b[0mgenre_key\u001b[0m\u001b[0;34m,\u001b[0m \u001b[0mhow\u001b[0m\u001b[0;34m=\u001b[0m\u001b[0;34m\"left\"\u001b[0m\u001b[0;34m,\u001b[0m \u001b[0mon\u001b[0m\u001b[0;34m=\u001b[0m\u001b[0;34m\"name\"\u001b[0m\u001b[0;34m)\u001b[0m\u001b[0;34m\u001b[0m\u001b[0;34m\u001b[0m\u001b[0m\n\u001b[0m\u001b[1;32m      4\u001b[0m \u001b[0;34m\u001b[0m\u001b[0m\n",
      "\u001b[0;31mAttributeError\u001b[0m: 'list' object has no attribute 'merge'"
     ]
    }
   ],
   "source": [
    "genre_key = pd.read_csv(\"../DataExtraction/ids_with_genres.csv\", sep=\",\")\n",
    "\n",
    "new_user.genres = new_user.genres.merge(genre_key, how=\"left\", on=\"name\")\n",
    "\n"
   ]
  },
  {
   "cell_type": "markdown",
   "id": "comprehensive-fiber",
   "metadata": {},
   "source": [
    "<h1> example with fake data </h1>\n",
    "\n",
    " EX:\n",
    " `{'name': ['Skyrim', 'Destiny', 'Mario Kart', 'Forza'], 'adventure': [1, 0,0,0], 'racing': [0, 0,1,1], 'shooter': [0, 1,0,0]}`\n"
   ]
  },
  {
   "cell_type": "code",
   "execution_count": null,
   "id": "ce0da9be",
   "metadata": {},
   "outputs": [],
   "source": [
    "# get Kelly's data queried as features\n",
    "# d = {'name': ['Skyrim', 'Destiny', 'Mario Kart', 'Forza'], 'adventure': [1, 0,0,0], 'racing': [0, 0,1,1], 'shooter': [0, 1,0,0]}\n",
    "\n",
    "d = User()"
   ]
  },
  {
   "cell_type": "code",
   "execution_count": null,
   "id": "pleasant-seeker",
   "metadata": {},
   "outputs": [],
   "source": [
    "df = pd.DataFrame(data=d)\n",
    "df\n",
    "ids_with_genres"
   ]
  },
  {
   "cell_type": "code",
   "execution_count": null,
   "id": "revolutionary-investment",
   "metadata": {},
   "outputs": [],
   "source": [
    "# Features in our model. All quantitative, except Neighborhood.\n",
    "features = [\"adventure\", \"racing\",\n",
    "            \"shooter\"]\n",
    "\n",
    "X_train_dict = df[features].to_dict(orient=\"records\")\n",
    "y_train = df[\"name\"]"
   ]
  },
  {
   "cell_type": "code",
   "execution_count": null,
   "id": "cordless-railway",
   "metadata": {},
   "outputs": [],
   "source": [
    "X_train = df[[\"adventure\", \"racing\", \"shooter\"]]\n",
    "y_train = df[\"name\"]\n",
    "\n",
    "X_train_sc = (X_train - X_train.mean()) / X_train.std()"
   ]
  },
  {
   "cell_type": "code",
   "execution_count": null,
   "id": "foreign-animal",
   "metadata": {},
   "outputs": [],
   "source": [
    "x_new = pd.Series(dtype=int)\n",
    "x_new[\"adventure\"] = 0\n",
    "x_new[\"racing\"] = 1\n",
    "x_new[\"shooter\"] = 0\n",
    "\n",
    "x_new_sc = (x_new - X_train.mean()) / X_train.std()\n",
    "x_new_sc"
   ]
  },
  {
   "cell_type": "code",
   "execution_count": null,
   "id": "revolutionary-dodge",
   "metadata": {},
   "outputs": [],
   "source": [
    "dists = np.sqrt(((X_train_sc - x_new_sc) ** 2).sum(axis=1))\n",
    "dists_sorted = dists.sort_values()\n",
    "dists_sorted"
   ]
  },
  {
   "cell_type": "code",
   "execution_count": null,
   "id": "polar-tooth",
   "metadata": {},
   "outputs": [],
   "source": [
    "inds_nearest = dists_sorted.index[:9]\n",
    "inds_nearest"
   ]
  },
  {
   "cell_type": "code",
   "execution_count": null,
   "id": "norman-riding",
   "metadata": {},
   "outputs": [],
   "source": [
    "df.loc[inds_nearest]"
   ]
  },
  {
   "cell_type": "markdown",
   "id": "heavy-cosmetic",
   "metadata": {},
   "source": [
    "<h1> example with 100 games </h1>\n",
    "I can't work :("
   ]
  },
  {
   "cell_type": "code",
   "execution_count": null,
   "id": "shared-turner",
   "metadata": {},
   "outputs": [],
   "source": [
    "# read the csv with all the games\n",
    "games = pd.read_csv(\"test_dataset.csv\", sep=\",\")\n",
    "\n",
    "# split the string into a list of strings\n",
    "games.genres = games.genres.str.split(', ').to_frame()\n",
    "\n",
    "# fill in [0] for all the NaN values\n",
    "games['genres'] = games['genres'].fillna({i: [0] for i in df.index})\n",
    "\n",
    "games['genres'][97]"
   ]
  },
  {
   "cell_type": "code",
   "execution_count": null,
   "id": "unlikely-alfred",
   "metadata": {},
   "outputs": [],
   "source": [
    "# convert the list of strings into a list of ints\n",
    "for i, genre_list in enumerate(games.genres):\n",
    "    for genre in genre_list:\n",
    "        games.genres[i] = list(map(int, games.genres[i]))"
   ]
  },
  {
   "cell_type": "code",
   "execution_count": null,
   "id": "increased-retirement",
   "metadata": {},
   "outputs": [],
   "source": [
    "# Getting distinct genre types for generating columns of genre type.\n",
    "genre_columns = list(set([j for i in games['genres'].tolist() for j in i]))"
   ]
  },
  {
   "cell_type": "code",
   "execution_count": null,
   "id": "reflected-baltimore",
   "metadata": {},
   "outputs": [],
   "source": [
    "# copy over name and id columns to new df\n",
    "selected_columns = games[[\"id\",\"name\"]]\n",
    "genre_df = selected_columns.copy()"
   ]
  },
  {
   "cell_type": "code",
   "execution_count": null,
   "id": "aggregate-albert",
   "metadata": {},
   "outputs": [],
   "source": [
    "# Iterating over every list to create and fill values into columns.\n",
    "for j in genre_columns:\n",
    "    genre_df[j] = 0\n",
    "for i in range(games.shape[0]):\n",
    "    for j in genre_columns:\n",
    "        if(j in games['genres'].iloc[i]):\n",
    "            genre_df.loc[i,j] = 1"
   ]
  },
  {
   "cell_type": "code",
   "execution_count": null,
   "id": "distinct-oliver",
   "metadata": {},
   "outputs": [],
   "source": [
    "genre_df"
   ]
  },
  {
   "cell_type": "code",
   "execution_count": null,
   "id": "arctic-consideration",
   "metadata": {},
   "outputs": [],
   "source": [
    "# Features in our model. All quantitative, except Neighborhood.\n",
    "features = genre_columns\n",
    "\n",
    "X_train_dict = genre_df[features].to_dict(orient=\"records\")\n",
    "y_train = genre_df[\"name\"]"
   ]
  },
  {
   "cell_type": "code",
   "execution_count": null,
   "id": "exterior-extra",
   "metadata": {},
   "outputs": [],
   "source": [
    "X_train = genre_df[genre_columns]\n",
    "y_train = genre_df[\"name\"]\n",
    "\n",
    "X_train_sc = (X_train - X_train.mean()) / X_train.std()"
   ]
  },
  {
   "cell_type": "code",
   "execution_count": null,
   "id": "dedicated-account",
   "metadata": {},
   "outputs": [],
   "source": [
    "x_new = pd.Series(0, index=genre_columns)\n",
    "\n",
    "x_new[9] = 1\n",
    "x_new[30] = 1\n",
    "x_new[31] = 1\n",
    "\n",
    "x_new_sc = (x_new - X_train.mean()) / X_train.std()\n",
    "x_new_sc"
   ]
  },
  {
   "cell_type": "code",
   "execution_count": null,
   "id": "vocal-performer",
   "metadata": {},
   "outputs": [],
   "source": [
    "dists = np.sqrt(((X_train_sc - x_new_sc) ** 2).sum(axis=1))\n",
    "dists_sorted = dists.sort_values()\n",
    "dists_sorted"
   ]
  },
  {
   "cell_type": "code",
   "execution_count": null,
   "id": "caring-theology",
   "metadata": {},
   "outputs": [],
   "source": [
    "inds_nearest = dists_sorted.index[:9]\n",
    "inds_nearest"
   ]
  },
  {
   "cell_type": "code",
   "execution_count": null,
   "id": "elect-merchant",
   "metadata": {},
   "outputs": [],
   "source": [
    "genre_df.loc[inds_nearest]"
   ]
  },
  {
   "cell_type": "code",
   "execution_count": null,
   "id": "subject-cylinder",
   "metadata": {},
   "outputs": [],
   "source": []
  },
  {
   "cell_type": "code",
   "execution_count": null,
   "id": "attended-pattern",
   "metadata": {},
   "outputs": [],
   "source": []
  },
  {
   "cell_type": "code",
   "execution_count": null,
   "id": "orange-marsh",
   "metadata": {},
   "outputs": [],
   "source": []
  },
  {
   "cell_type": "code",
   "execution_count": null,
   "id": "regulated-dragon",
   "metadata": {},
   "outputs": [],
   "source": []
  },
  {
   "cell_type": "code",
   "execution_count": null,
   "id": "indian-wallpaper",
   "metadata": {},
   "outputs": [],
   "source": []
  },
  {
   "cell_type": "code",
   "execution_count": null,
   "id": "intellectual-stocks",
   "metadata": {},
   "outputs": [],
   "source": []
  }
 ],
 "metadata": {
  "kernelspec": {
   "display_name": "Python 3 (ipykernel)",
   "language": "python",
   "name": "python3"
  },
  "language_info": {
   "codemirror_mode": {
    "name": "ipython",
    "version": 3
   },
   "file_extension": ".py",
   "mimetype": "text/x-python",
   "name": "python",
   "nbconvert_exporter": "python",
   "pygments_lexer": "ipython3",
   "version": "3.8.4"
  }
 },
 "nbformat": 4,
 "nbformat_minor": 5
}
