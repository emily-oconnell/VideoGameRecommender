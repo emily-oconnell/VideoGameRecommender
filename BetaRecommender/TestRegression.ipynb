{
 "cells": [
  {
   "cell_type": "code",
   "execution_count": 1,
   "id": "military-married",
   "metadata": {},
   "outputs": [],
   "source": [
    "%matplotlib inline\n",
    "import numpy as np\n",
    "import pandas as pd\n",
    "pd.options.display.max_rows = 5\n",
    "\n",
    "#games = pd.read_csv(\"IGDB_games.csv\", sep=\",\")"
   ]
  },
  {
   "cell_type": "code",
   "execution_count": 4,
   "id": "confused-narrative",
   "metadata": {
    "scrolled": true
   },
   "outputs": [
    {
     "data": {
      "text/html": [
       "<div>\n",
       "<style scoped>\n",
       "    .dataframe tbody tr th:only-of-type {\n",
       "        vertical-align: middle;\n",
       "    }\n",
       "\n",
       "    .dataframe tbody tr th {\n",
       "        vertical-align: top;\n",
       "    }\n",
       "\n",
       "    .dataframe thead th {\n",
       "        text-align: right;\n",
       "    }\n",
       "</style>\n",
       "<table border=\"1\" class=\"dataframe\">\n",
       "  <thead>\n",
       "    <tr style=\"text-align: right;\">\n",
       "      <th></th>\n",
       "      <th>id</th>\n",
       "      <th>name</th>\n",
       "    </tr>\n",
       "  </thead>\n",
       "  <tbody>\n",
       "    <tr>\n",
       "      <th>0</th>\n",
       "      <td>4</td>\n",
       "      <td>Fighting</td>\n",
       "    </tr>\n",
       "    <tr>\n",
       "      <th>1</th>\n",
       "      <td>5</td>\n",
       "      <td>Shooter</td>\n",
       "    </tr>\n",
       "    <tr>\n",
       "      <th>...</th>\n",
       "      <td>...</td>\n",
       "      <td>...</td>\n",
       "    </tr>\n",
       "    <tr>\n",
       "      <th>21</th>\n",
       "      <td>36</td>\n",
       "      <td>MOBA</td>\n",
       "    </tr>\n",
       "    <tr>\n",
       "      <th>22</th>\n",
       "      <td>2</td>\n",
       "      <td>Point-and-click</td>\n",
       "    </tr>\n",
       "  </tbody>\n",
       "</table>\n",
       "<p>23 rows × 2 columns</p>\n",
       "</div>"
      ],
      "text/plain": [
       "    id             name\n",
       "0    4         Fighting\n",
       "1    5          Shooter\n",
       "..  ..              ...\n",
       "21  36             MOBA\n",
       "22   2  Point-and-click\n",
       "\n",
       "[23 rows x 2 columns]"
      ]
     },
     "execution_count": 4,
     "metadata": {},
     "output_type": "execute_result"
    }
   ],
   "source": [
    "ids_with_genres = pd.read_csv(\"../DataExtraction/ids_with_genres.csv\", sep=\",\")\n",
    "ids_with_genres "
   ]
  },
  {
   "cell_type": "markdown",
   "id": "comprehensive-fiber",
   "metadata": {},
   "source": [
    "<h1> example with fake data </h1>"
   ]
  },
  {
   "cell_type": "code",
   "execution_count": null,
   "id": "be14f0ad",
   "metadata": {},
   "outputs": [],
   "source": [
    "# get Kelly's data queried as features\n",
    "d = {'name': ['Skyrim', 'Destiny', 'Mario Kart', 'Forza'], 'adventure': [1, 0,0,0], 'racing': [0, 0,1,1], 'shooter': [0, 1,0,0]}\n"
   ]
  },
  {
   "cell_type": "code",
   "execution_count": 5,
   "id": "pleasant-seeker",
   "metadata": {},
   "outputs": [
    {
     "data": {
      "text/html": [
       "<div>\n",
       "<style scoped>\n",
       "    .dataframe tbody tr th:only-of-type {\n",
       "        vertical-align: middle;\n",
       "    }\n",
       "\n",
       "    .dataframe tbody tr th {\n",
       "        vertical-align: top;\n",
       "    }\n",
       "\n",
       "    .dataframe thead th {\n",
       "        text-align: right;\n",
       "    }\n",
       "</style>\n",
       "<table border=\"1\" class=\"dataframe\">\n",
       "  <thead>\n",
       "    <tr style=\"text-align: right;\">\n",
       "      <th></th>\n",
       "      <th>id</th>\n",
       "      <th>name</th>\n",
       "    </tr>\n",
       "  </thead>\n",
       "  <tbody>\n",
       "    <tr>\n",
       "      <th>0</th>\n",
       "      <td>4</td>\n",
       "      <td>Fighting</td>\n",
       "    </tr>\n",
       "    <tr>\n",
       "      <th>1</th>\n",
       "      <td>5</td>\n",
       "      <td>Shooter</td>\n",
       "    </tr>\n",
       "    <tr>\n",
       "      <th>...</th>\n",
       "      <td>...</td>\n",
       "      <td>...</td>\n",
       "    </tr>\n",
       "    <tr>\n",
       "      <th>21</th>\n",
       "      <td>36</td>\n",
       "      <td>MOBA</td>\n",
       "    </tr>\n",
       "    <tr>\n",
       "      <th>22</th>\n",
       "      <td>2</td>\n",
       "      <td>Point-and-click</td>\n",
       "    </tr>\n",
       "  </tbody>\n",
       "</table>\n",
       "<p>23 rows × 2 columns</p>\n",
       "</div>"
      ],
      "text/plain": [
       "    id             name\n",
       "0    4         Fighting\n",
       "1    5          Shooter\n",
       "..  ..              ...\n",
       "21  36             MOBA\n",
       "22   2  Point-and-click\n",
       "\n",
       "[23 rows x 2 columns]"
      ]
     },
     "execution_count": 5,
     "metadata": {},
     "output_type": "execute_result"
    }
   ],
   "source": [
    "df = pd.DataFrame(data=d)\n",
    "df\n",
    "ids_with_genres"
   ]
  },
  {
   "cell_type": "code",
   "execution_count": 6,
   "id": "revolutionary-investment",
   "metadata": {},
   "outputs": [],
   "source": [
    "# Features in our model. All quantitative, except Neighborhood.\n",
    "features = [\"adventure\", \"racing\",\n",
    "            \"shooter\"]\n",
    "\n",
    "X_train_dict = df[features].to_dict(orient=\"records\")\n",
    "y_train = df[\"name\"]"
   ]
  },
  {
   "cell_type": "code",
   "execution_count": 7,
   "id": "cordless-railway",
   "metadata": {},
   "outputs": [],
   "source": [
    "X_train = df[[\"adventure\", \"racing\", \"shooter\"]]\n",
    "y_train = df[\"name\"]\n",
    "\n",
    "X_train_sc = (X_train - X_train.mean()) / X_train.std()"
   ]
  },
  {
   "cell_type": "code",
   "execution_count": 8,
   "id": "foreign-animal",
   "metadata": {},
   "outputs": [
    {
     "data": {
      "text/plain": [
       "adventure   -0.500000\n",
       "racing       0.866025\n",
       "shooter     -0.500000\n",
       "dtype: float64"
      ]
     },
     "execution_count": 8,
     "metadata": {},
     "output_type": "execute_result"
    }
   ],
   "source": [
    "x_new = pd.Series(dtype=int)\n",
    "x_new[\"adventure\"] = 0\n",
    "x_new[\"racing\"] = 1\n",
    "x_new[\"shooter\"] = 0\n",
    "\n",
    "x_new_sc = (x_new - X_train.mean()) / X_train.std()\n",
    "x_new_sc"
   ]
  },
  {
   "cell_type": "code",
   "execution_count": 584,
   "id": "revolutionary-dodge",
   "metadata": {},
   "outputs": [
    {
     "data": {
      "text/plain": [
       "2    0.000000\n",
       "3    0.000000\n",
       "0    2.645751\n",
       "1    2.645751\n",
       "dtype: float64"
      ]
     },
     "execution_count": 584,
     "metadata": {},
     "output_type": "execute_result"
    }
   ],
   "source": [
    "dists = np.sqrt(((X_train_sc - x_new_sc) ** 2).sum(axis=1))\n",
    "dists_sorted = dists.sort_values()\n",
    "dists_sorted"
   ]
  },
  {
   "cell_type": "code",
   "execution_count": 585,
   "id": "polar-tooth",
   "metadata": {},
   "outputs": [
    {
     "data": {
      "text/plain": [
       "Int64Index([2, 3, 0, 1], dtype='int64')"
      ]
     },
     "execution_count": 585,
     "metadata": {},
     "output_type": "execute_result"
    }
   ],
   "source": [
    "inds_nearest = dists_sorted.index[:9]\n",
    "inds_nearest"
   ]
  },
  {
   "cell_type": "code",
   "execution_count": 586,
   "id": "norman-riding",
   "metadata": {},
   "outputs": [
    {
     "data": {
      "text/html": [
       "<div>\n",
       "<style scoped>\n",
       "    .dataframe tbody tr th:only-of-type {\n",
       "        vertical-align: middle;\n",
       "    }\n",
       "\n",
       "    .dataframe tbody tr th {\n",
       "        vertical-align: top;\n",
       "    }\n",
       "\n",
       "    .dataframe thead th {\n",
       "        text-align: right;\n",
       "    }\n",
       "</style>\n",
       "<table border=\"1\" class=\"dataframe\">\n",
       "  <thead>\n",
       "    <tr style=\"text-align: right;\">\n",
       "      <th></th>\n",
       "      <th>name</th>\n",
       "      <th>adventure</th>\n",
       "      <th>racing</th>\n",
       "      <th>shooter</th>\n",
       "    </tr>\n",
       "  </thead>\n",
       "  <tbody>\n",
       "    <tr>\n",
       "      <th>2</th>\n",
       "      <td>Mario Kart</td>\n",
       "      <td>0</td>\n",
       "      <td>1</td>\n",
       "      <td>0</td>\n",
       "    </tr>\n",
       "    <tr>\n",
       "      <th>3</th>\n",
       "      <td>Forza</td>\n",
       "      <td>0</td>\n",
       "      <td>1</td>\n",
       "      <td>0</td>\n",
       "    </tr>\n",
       "    <tr>\n",
       "      <th>0</th>\n",
       "      <td>Skyrim</td>\n",
       "      <td>1</td>\n",
       "      <td>0</td>\n",
       "      <td>0</td>\n",
       "    </tr>\n",
       "    <tr>\n",
       "      <th>1</th>\n",
       "      <td>Destiny</td>\n",
       "      <td>0</td>\n",
       "      <td>0</td>\n",
       "      <td>1</td>\n",
       "    </tr>\n",
       "  </tbody>\n",
       "</table>\n",
       "</div>"
      ],
      "text/plain": [
       "         name  adventure  racing  shooter\n",
       "2  Mario Kart          0       1        0\n",
       "3       Forza          0       1        0\n",
       "0      Skyrim          1       0        0\n",
       "1     Destiny          0       0        1"
      ]
     },
     "execution_count": 586,
     "metadata": {},
     "output_type": "execute_result"
    }
   ],
   "source": [
    "df.loc[inds_nearest]"
   ]
  },
  {
   "cell_type": "markdown",
   "id": "heavy-cosmetic",
   "metadata": {},
   "source": [
    "<h1> example with 100 games </h1>\n",
    "I can't work :("
   ]
  },
  {
   "cell_type": "code",
   "execution_count": 587,
   "id": "shared-turner",
   "metadata": {},
   "outputs": [
    {
     "data": {
      "text/plain": [
       "['0']"
      ]
     },
     "execution_count": 587,
     "metadata": {},
     "output_type": "execute_result"
    }
   ],
   "source": [
    "# read the csv with all the games\n",
    "games = pd.read_csv(\"test_dataset.csv\", sep=\",\")\n",
    "\n",
    "# split the string into a list of strings\n",
    "games.genres = games.genres.str.split(', ').to_frame()\n",
    "\n",
    "# fill in [0] for all the NaN values\n",
    "games['genres'] = games['genres'].fillna({i: [0] for i in df.index})\n",
    "\n",
    "games['genres'][97]"
   ]
  },
  {
   "cell_type": "code",
   "execution_count": 588,
   "id": "unlikely-alfred",
   "metadata": {},
   "outputs": [
    {
     "name": "stderr",
     "output_type": "stream",
     "text": [
      "<ipython-input-588-01529eb85361>:4: SettingWithCopyWarning: \n",
      "A value is trying to be set on a copy of a slice from a DataFrame\n",
      "\n",
      "See the caveats in the documentation: https://pandas.pydata.org/pandas-docs/stable/user_guide/indexing.html#returning-a-view-versus-a-copy\n",
      "  games.genres[i] = list(map(int, games.genres[i]))\n"
     ]
    }
   ],
   "source": [
    "# convert the list of strings into a list of ints\n",
    "for i, genre_list in enumerate(games.genres):\n",
    "    for genre in genre_list:\n",
    "        games.genres[i] = list(map(int, games.genres[i]))"
   ]
  },
  {
   "cell_type": "code",
   "execution_count": 589,
   "id": "increased-retirement",
   "metadata": {},
   "outputs": [],
   "source": [
    "# Getting distinct genre types for generating columns of genre type.\n",
    "genre_columns = list(set([j for i in games['genres'].tolist() for j in i]))"
   ]
  },
  {
   "cell_type": "code",
   "execution_count": 590,
   "id": "reflected-baltimore",
   "metadata": {},
   "outputs": [],
   "source": [
    "# copy over name and id columns to new df\n",
    "selected_columns = games[[\"id\",\"name\"]]\n",
    "genre_df = selected_columns.copy()"
   ]
  },
  {
   "cell_type": "code",
   "execution_count": 591,
   "id": "aggregate-albert",
   "metadata": {},
   "outputs": [],
   "source": [
    "# Iterating over every list to create and fill values into columns.\n",
    "for j in genre_columns:\n",
    "    genre_df[j] = 0\n",
    "for i in range(games.shape[0]):\n",
    "    for j in genre_columns:\n",
    "        if(j in games['genres'].iloc[i]):\n",
    "            genre_df.loc[i,j] = 1"
   ]
  },
  {
   "cell_type": "code",
   "execution_count": 592,
   "id": "distinct-oliver",
   "metadata": {},
   "outputs": [
    {
     "data": {
      "text/html": [
       "<div>\n",
       "<style scoped>\n",
       "    .dataframe tbody tr th:only-of-type {\n",
       "        vertical-align: middle;\n",
       "    }\n",
       "\n",
       "    .dataframe tbody tr th {\n",
       "        vertical-align: top;\n",
       "    }\n",
       "\n",
       "    .dataframe thead th {\n",
       "        text-align: right;\n",
       "    }\n",
       "</style>\n",
       "<table border=\"1\" class=\"dataframe\">\n",
       "  <thead>\n",
       "    <tr style=\"text-align: right;\">\n",
       "      <th></th>\n",
       "      <th>id</th>\n",
       "      <th>name</th>\n",
       "      <th>0</th>\n",
       "      <th>2</th>\n",
       "      <th>4</th>\n",
       "      <th>5</th>\n",
       "      <th>8</th>\n",
       "      <th>9</th>\n",
       "      <th>10</th>\n",
       "      <th>12</th>\n",
       "      <th>...</th>\n",
       "      <th>15</th>\n",
       "      <th>16</th>\n",
       "      <th>24</th>\n",
       "      <th>25</th>\n",
       "      <th>30</th>\n",
       "      <th>31</th>\n",
       "      <th>32</th>\n",
       "      <th>33</th>\n",
       "      <th>34</th>\n",
       "      <th>35</th>\n",
       "    </tr>\n",
       "  </thead>\n",
       "  <tbody>\n",
       "    <tr>\n",
       "      <th>0</th>\n",
       "      <td>73817</td>\n",
       "      <td>Spy Snatcher</td>\n",
       "      <td>1</td>\n",
       "      <td>0</td>\n",
       "      <td>0</td>\n",
       "      <td>0</td>\n",
       "      <td>0</td>\n",
       "      <td>0</td>\n",
       "      <td>0</td>\n",
       "      <td>0</td>\n",
       "      <td>...</td>\n",
       "      <td>0</td>\n",
       "      <td>0</td>\n",
       "      <td>0</td>\n",
       "      <td>0</td>\n",
       "      <td>0</td>\n",
       "      <td>0</td>\n",
       "      <td>0</td>\n",
       "      <td>0</td>\n",
       "      <td>0</td>\n",
       "      <td>0</td>\n",
       "    </tr>\n",
       "    <tr>\n",
       "      <th>1</th>\n",
       "      <td>112119</td>\n",
       "      <td>Woohoojin Bridges</td>\n",
       "      <td>1</td>\n",
       "      <td>0</td>\n",
       "      <td>0</td>\n",
       "      <td>0</td>\n",
       "      <td>0</td>\n",
       "      <td>0</td>\n",
       "      <td>0</td>\n",
       "      <td>0</td>\n",
       "      <td>...</td>\n",
       "      <td>0</td>\n",
       "      <td>0</td>\n",
       "      <td>0</td>\n",
       "      <td>0</td>\n",
       "      <td>0</td>\n",
       "      <td>0</td>\n",
       "      <td>0</td>\n",
       "      <td>0</td>\n",
       "      <td>0</td>\n",
       "      <td>0</td>\n",
       "    </tr>\n",
       "    <tr>\n",
       "      <th>...</th>\n",
       "      <td>...</td>\n",
       "      <td>...</td>\n",
       "      <td>...</td>\n",
       "      <td>...</td>\n",
       "      <td>...</td>\n",
       "      <td>...</td>\n",
       "      <td>...</td>\n",
       "      <td>...</td>\n",
       "      <td>...</td>\n",
       "      <td>...</td>\n",
       "      <td>...</td>\n",
       "      <td>...</td>\n",
       "      <td>...</td>\n",
       "      <td>...</td>\n",
       "      <td>...</td>\n",
       "      <td>...</td>\n",
       "      <td>...</td>\n",
       "      <td>...</td>\n",
       "      <td>...</td>\n",
       "      <td>...</td>\n",
       "      <td>...</td>\n",
       "    </tr>\n",
       "    <tr>\n",
       "      <th>97</th>\n",
       "      <td>86456</td>\n",
       "      <td>Battlezone 2 Remastered</td>\n",
       "      <td>1</td>\n",
       "      <td>0</td>\n",
       "      <td>0</td>\n",
       "      <td>0</td>\n",
       "      <td>0</td>\n",
       "      <td>0</td>\n",
       "      <td>0</td>\n",
       "      <td>0</td>\n",
       "      <td>...</td>\n",
       "      <td>0</td>\n",
       "      <td>0</td>\n",
       "      <td>0</td>\n",
       "      <td>0</td>\n",
       "      <td>0</td>\n",
       "      <td>0</td>\n",
       "      <td>0</td>\n",
       "      <td>0</td>\n",
       "      <td>0</td>\n",
       "      <td>0</td>\n",
       "    </tr>\n",
       "    <tr>\n",
       "      <th>98</th>\n",
       "      <td>17436</td>\n",
       "      <td>Momodora III</td>\n",
       "      <td>0</td>\n",
       "      <td>0</td>\n",
       "      <td>0</td>\n",
       "      <td>0</td>\n",
       "      <td>1</td>\n",
       "      <td>0</td>\n",
       "      <td>0</td>\n",
       "      <td>0</td>\n",
       "      <td>...</td>\n",
       "      <td>0</td>\n",
       "      <td>0</td>\n",
       "      <td>0</td>\n",
       "      <td>0</td>\n",
       "      <td>0</td>\n",
       "      <td>0</td>\n",
       "      <td>1</td>\n",
       "      <td>0</td>\n",
       "      <td>0</td>\n",
       "      <td>0</td>\n",
       "    </tr>\n",
       "  </tbody>\n",
       "</table>\n",
       "<p>99 rows × 22 columns</p>\n",
       "</div>"
      ],
      "text/plain": [
       "        id                     name  0  2  4  5  8  9  10  12  ...  15  16  \\\n",
       "0    73817             Spy Snatcher  1  0  0  0  0  0   0   0  ...   0   0   \n",
       "1   112119        Woohoojin Bridges  1  0  0  0  0  0   0   0  ...   0   0   \n",
       "..     ...                      ... .. .. .. .. .. ..  ..  ..  ...  ..  ..   \n",
       "97   86456  Battlezone 2 Remastered  1  0  0  0  0  0   0   0  ...   0   0   \n",
       "98   17436             Momodora III  0  0  0  0  1  0   0   0  ...   0   0   \n",
       "\n",
       "    24  25  30  31  32  33  34  35  \n",
       "0    0   0   0   0   0   0   0   0  \n",
       "1    0   0   0   0   0   0   0   0  \n",
       "..  ..  ..  ..  ..  ..  ..  ..  ..  \n",
       "97   0   0   0   0   0   0   0   0  \n",
       "98   0   0   0   0   1   0   0   0  \n",
       "\n",
       "[99 rows x 22 columns]"
      ]
     },
     "execution_count": 592,
     "metadata": {},
     "output_type": "execute_result"
    }
   ],
   "source": [
    "genre_df"
   ]
  },
  {
   "cell_type": "code",
   "execution_count": 593,
   "id": "arctic-consideration",
   "metadata": {},
   "outputs": [],
   "source": [
    "# Features in our model. All quantitative, except Neighborhood.\n",
    "features = genre_columns\n",
    "\n",
    "X_train_dict = genre_df[features].to_dict(orient=\"records\")\n",
    "y_train = genre_df[\"name\"]"
   ]
  },
  {
   "cell_type": "code",
   "execution_count": 594,
   "id": "exterior-extra",
   "metadata": {},
   "outputs": [],
   "source": [
    "X_train = genre_df[genre_columns]\n",
    "y_train = genre_df[\"name\"]\n",
    "\n",
    "X_train_sc = (X_train - X_train.mean()) / X_train.std()"
   ]
  },
  {
   "cell_type": "code",
   "execution_count": 615,
   "id": "dedicated-account",
   "metadata": {},
   "outputs": [
    {
     "data": {
      "text/plain": [
       "0    -0.703526\n",
       "2    -0.100504\n",
       "        ...   \n",
       "31         NaN\n",
       "9          NaN\n",
       "Length: 23, dtype: float64"
      ]
     },
     "execution_count": 615,
     "metadata": {},
     "output_type": "execute_result"
    }
   ],
   "source": [
    "x_new = pd.Series(0, index=genre_columns)\n",
    "\n",
    "x_new[\"9\"] = 1\n",
    "x_new[\"30\"] = 1\n",
    "x_new[\"31\"] = 1\n",
    "\n",
    "x_new_sc = (x_new - X_train.mean()) / X_train.std()\n",
    "x_new_sc"
   ]
  },
  {
   "cell_type": "code",
   "execution_count": 616,
   "id": "vocal-performer",
   "metadata": {},
   "outputs": [
    {
     "data": {
      "text/plain": [
       "0      2.110579\n",
       "82     2.110579\n",
       "        ...    \n",
       "28    10.966808\n",
       "3     11.016848\n",
       "Length: 99, dtype: float64"
      ]
     },
     "execution_count": 616,
     "metadata": {},
     "output_type": "execute_result"
    }
   ],
   "source": [
    "dists = np.sqrt(((X_train_sc - x_new_sc) ** 2).sum(axis=1))\n",
    "dists_sorted = dists.sort_values()\n",
    "dists_sorted"
   ]
  },
  {
   "cell_type": "code",
   "execution_count": 617,
   "id": "caring-theology",
   "metadata": {},
   "outputs": [
    {
     "data": {
      "text/plain": [
       "Int64Index([0, 82, 78, 33, 71, 35, 38, 39, 40], dtype='int64')"
      ]
     },
     "execution_count": 617,
     "metadata": {},
     "output_type": "execute_result"
    }
   ],
   "source": [
    "inds_nearest = dists_sorted.index[:9]\n",
    "inds_nearest"
   ]
  },
  {
   "cell_type": "code",
   "execution_count": 618,
   "id": "elect-merchant",
   "metadata": {},
   "outputs": [
    {
     "data": {
      "text/html": [
       "<div>\n",
       "<style scoped>\n",
       "    .dataframe tbody tr th:only-of-type {\n",
       "        vertical-align: middle;\n",
       "    }\n",
       "\n",
       "    .dataframe tbody tr th {\n",
       "        vertical-align: top;\n",
       "    }\n",
       "\n",
       "    .dataframe thead th {\n",
       "        text-align: right;\n",
       "    }\n",
       "</style>\n",
       "<table border=\"1\" class=\"dataframe\">\n",
       "  <thead>\n",
       "    <tr style=\"text-align: right;\">\n",
       "      <th></th>\n",
       "      <th>id</th>\n",
       "      <th>name</th>\n",
       "      <th>0</th>\n",
       "      <th>2</th>\n",
       "      <th>4</th>\n",
       "      <th>5</th>\n",
       "      <th>8</th>\n",
       "      <th>9</th>\n",
       "      <th>10</th>\n",
       "      <th>12</th>\n",
       "      <th>...</th>\n",
       "      <th>15</th>\n",
       "      <th>16</th>\n",
       "      <th>24</th>\n",
       "      <th>25</th>\n",
       "      <th>30</th>\n",
       "      <th>31</th>\n",
       "      <th>32</th>\n",
       "      <th>33</th>\n",
       "      <th>34</th>\n",
       "      <th>35</th>\n",
       "    </tr>\n",
       "  </thead>\n",
       "  <tbody>\n",
       "    <tr>\n",
       "      <th>0</th>\n",
       "      <td>73817</td>\n",
       "      <td>Spy Snatcher</td>\n",
       "      <td>1</td>\n",
       "      <td>0</td>\n",
       "      <td>0</td>\n",
       "      <td>0</td>\n",
       "      <td>0</td>\n",
       "      <td>0</td>\n",
       "      <td>0</td>\n",
       "      <td>0</td>\n",
       "      <td>...</td>\n",
       "      <td>0</td>\n",
       "      <td>0</td>\n",
       "      <td>0</td>\n",
       "      <td>0</td>\n",
       "      <td>0</td>\n",
       "      <td>0</td>\n",
       "      <td>0</td>\n",
       "      <td>0</td>\n",
       "      <td>0</td>\n",
       "      <td>0</td>\n",
       "    </tr>\n",
       "    <tr>\n",
       "      <th>82</th>\n",
       "      <td>111819</td>\n",
       "      <td>Cat Lady</td>\n",
       "      <td>1</td>\n",
       "      <td>0</td>\n",
       "      <td>0</td>\n",
       "      <td>0</td>\n",
       "      <td>0</td>\n",
       "      <td>0</td>\n",
       "      <td>0</td>\n",
       "      <td>0</td>\n",
       "      <td>...</td>\n",
       "      <td>0</td>\n",
       "      <td>0</td>\n",
       "      <td>0</td>\n",
       "      <td>0</td>\n",
       "      <td>0</td>\n",
       "      <td>0</td>\n",
       "      <td>0</td>\n",
       "      <td>0</td>\n",
       "      <td>0</td>\n",
       "      <td>0</td>\n",
       "    </tr>\n",
       "    <tr>\n",
       "      <th>...</th>\n",
       "      <td>...</td>\n",
       "      <td>...</td>\n",
       "      <td>...</td>\n",
       "      <td>...</td>\n",
       "      <td>...</td>\n",
       "      <td>...</td>\n",
       "      <td>...</td>\n",
       "      <td>...</td>\n",
       "      <td>...</td>\n",
       "      <td>...</td>\n",
       "      <td>...</td>\n",
       "      <td>...</td>\n",
       "      <td>...</td>\n",
       "      <td>...</td>\n",
       "      <td>...</td>\n",
       "      <td>...</td>\n",
       "      <td>...</td>\n",
       "      <td>...</td>\n",
       "      <td>...</td>\n",
       "      <td>...</td>\n",
       "      <td>...</td>\n",
       "    </tr>\n",
       "    <tr>\n",
       "      <th>39</th>\n",
       "      <td>76220</td>\n",
       "      <td>Dead by Daylight: The Last Breath Chapter</td>\n",
       "      <td>1</td>\n",
       "      <td>0</td>\n",
       "      <td>0</td>\n",
       "      <td>0</td>\n",
       "      <td>0</td>\n",
       "      <td>0</td>\n",
       "      <td>0</td>\n",
       "      <td>0</td>\n",
       "      <td>...</td>\n",
       "      <td>0</td>\n",
       "      <td>0</td>\n",
       "      <td>0</td>\n",
       "      <td>0</td>\n",
       "      <td>0</td>\n",
       "      <td>0</td>\n",
       "      <td>0</td>\n",
       "      <td>0</td>\n",
       "      <td>0</td>\n",
       "      <td>0</td>\n",
       "    </tr>\n",
       "    <tr>\n",
       "      <th>40</th>\n",
       "      <td>72929</td>\n",
       "      <td>Nova Usagi no Game de Ryuugaku!? DS</td>\n",
       "      <td>1</td>\n",
       "      <td>0</td>\n",
       "      <td>0</td>\n",
       "      <td>0</td>\n",
       "      <td>0</td>\n",
       "      <td>0</td>\n",
       "      <td>0</td>\n",
       "      <td>0</td>\n",
       "      <td>...</td>\n",
       "      <td>0</td>\n",
       "      <td>0</td>\n",
       "      <td>0</td>\n",
       "      <td>0</td>\n",
       "      <td>0</td>\n",
       "      <td>0</td>\n",
       "      <td>0</td>\n",
       "      <td>0</td>\n",
       "      <td>0</td>\n",
       "      <td>0</td>\n",
       "    </tr>\n",
       "  </tbody>\n",
       "</table>\n",
       "<p>9 rows × 22 columns</p>\n",
       "</div>"
      ],
      "text/plain": [
       "        id                                       name  0  2  4  5  8  9  10  \\\n",
       "0    73817                               Spy Snatcher  1  0  0  0  0  0   0   \n",
       "82  111819                                   Cat Lady  1  0  0  0  0  0   0   \n",
       "..     ...                                        ... .. .. .. .. .. ..  ..   \n",
       "39   76220  Dead by Daylight: The Last Breath Chapter  1  0  0  0  0  0   0   \n",
       "40   72929        Nova Usagi no Game de Ryuugaku!? DS  1  0  0  0  0  0   0   \n",
       "\n",
       "    12  ...  15  16  24  25  30  31  32  33  34  35  \n",
       "0    0  ...   0   0   0   0   0   0   0   0   0   0  \n",
       "82   0  ...   0   0   0   0   0   0   0   0   0   0  \n",
       "..  ..  ...  ..  ..  ..  ..  ..  ..  ..  ..  ..  ..  \n",
       "39   0  ...   0   0   0   0   0   0   0   0   0   0  \n",
       "40   0  ...   0   0   0   0   0   0   0   0   0   0  \n",
       "\n",
       "[9 rows x 22 columns]"
      ]
     },
     "execution_count": 618,
     "metadata": {},
     "output_type": "execute_result"
    }
   ],
   "source": [
    "genre_df.loc[inds_nearest]"
   ]
  },
  {
   "cell_type": "code",
   "execution_count": null,
   "id": "subject-cylinder",
   "metadata": {},
   "outputs": [],
   "source": []
  },
  {
   "cell_type": "code",
   "execution_count": null,
   "id": "attended-pattern",
   "metadata": {},
   "outputs": [],
   "source": []
  },
  {
   "cell_type": "code",
   "execution_count": null,
   "id": "orange-marsh",
   "metadata": {},
   "outputs": [],
   "source": []
  },
  {
   "cell_type": "code",
   "execution_count": null,
   "id": "regulated-dragon",
   "metadata": {},
   "outputs": [],
   "source": []
  },
  {
   "cell_type": "code",
   "execution_count": null,
   "id": "indian-wallpaper",
   "metadata": {},
   "outputs": [],
   "source": []
  },
  {
   "cell_type": "code",
   "execution_count": null,
   "id": "intellectual-stocks",
   "metadata": {},
   "outputs": [],
   "source": []
  }
 ],
 "metadata": {
  "kernelspec": {
   "display_name": "Python 3 (ipykernel)",
   "language": "python",
   "name": "python3"
  },
  "language_info": {
   "codemirror_mode": {
    "name": "ipython",
    "version": 3
   },
   "file_extension": ".py",
   "mimetype": "text/x-python",
   "name": "python",
   "nbconvert_exporter": "python",
   "pygments_lexer": "ipython3",
   "version": "3.9.6"
  }
 },
 "nbformat": 4,
 "nbformat_minor": 5
}
