{
 "cells": [
  {
   "cell_type": "code",
   "execution_count": 1,
   "metadata": {},
   "outputs": [],
   "source": [
    "# importing packages\n",
    "import pandas as pd\n"
   ]
  },
  {
   "cell_type": "code",
   "execution_count": 31,
   "metadata": {},
   "outputs": [],
   "source": [
    "game_modes = pd.read_json(\"game_modes_to_ids.json\")\n",
    "genres = pd.read_json(\"genres_to_ids.json\")\n",
    "keywords = pd.read_json(\"keywords_to_ids.json\")\n",
    "platforms = pd.read_json(\"platforms_to_ids.json\")\n",
    "themes = pd.read_json(\"themes_to_ids.json\")\n",
    "#data = pd.read_json(\"igdb_data.json\",orient=\"columns\")"
   ]
  },
  {
   "cell_type": "code",
   "execution_count": 33,
   "metadata": {},
   "outputs": [],
   "source": [
    "# convert df to csv\n",
    "game_modes.to_csv(\"id_game_modes.csv\",index=False)\n",
    "genres.to_csv(\"id_genres.csv\",index=False)\n",
    "keywords.to_csv(\"id_keywords.csv\",index=False)\n",
    "platforms.to_csv(\"id_platforms.csv\",index=False)\n",
    "themes.to_csv(\"id_themes.csv\",index=False)"
   ]
  },
  {
   "cell_type": "code",
   "execution_count": null,
   "metadata": {},
   "outputs": [],
   "source": []
  }
 ],
 "metadata": {
  "kernelspec": {
   "display_name": "Python 3",
   "language": "python",
   "name": "python3"
  },
  "language_info": {
   "codemirror_mode": {
    "name": "ipython",
    "version": 3
   },
   "file_extension": ".py",
   "mimetype": "text/x-python",
   "name": "python",
   "nbconvert_exporter": "python",
   "pygments_lexer": "ipython3",
   "version": "3.8.5"
  }
 },
 "nbformat": 4,
 "nbformat_minor": 4
}
